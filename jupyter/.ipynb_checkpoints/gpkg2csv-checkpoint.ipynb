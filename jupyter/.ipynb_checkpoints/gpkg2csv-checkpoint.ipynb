{
 "cells": [
  {
   "cell_type": "markdown",
   "metadata": {},
   "source": [
    "# gpkg2csv\n",
    "\n",
    "Przygotowanie danych:\n",
    " - odczyt z pliku `gpkg/shp`\n",
    " - zapis wybranych kolumn jako `csv`"
   ]
  },
  {
   "cell_type": "code",
   "execution_count": 1,
   "metadata": {},
   "outputs": [],
   "source": [
    "import fiona\n",
    "import json\n",
    "import pandas as pd\n",
    "import numpy as np\n",
    "from pathlib import Path"
   ]
  },
  {
   "cell_type": "code",
   "execution_count": 2,
   "metadata": {},
   "outputs": [],
   "source": [
    "pd.options.display.width = 250\n",
    "np.set_printoptions(linewidth=250)"
   ]
  },
  {
   "cell_type": "code",
   "execution_count": 7,
   "metadata": {},
   "outputs": [
    {
     "name": "stdout",
     "output_type": "stream",
     "text": [
      "cros01.csv  dane01.gpkg   r02_trueFalse.csv   r04_modern1.csv  raport.html\r\n",
      "dane01.csv  r01_cros.csv  r03_classicAcc.csv  r05_modern2.csv\r\n"
     ]
    }
   ],
   "source": [
    "%ls ../testy/"
   ]
  },
  {
   "cell_type": "markdown",
   "metadata": {},
   "source": [
    "### Adresy plików\n",
    "- do otwarcia\n",
    "- do zapisu wyników"
   ]
  },
  {
   "cell_type": "code",
   "execution_count": 4,
   "metadata": {},
   "outputs": [
    {
     "name": "stdout",
     "output_type": "stream",
     "text": [
      "/home/u1/03_Programowanie/03Python/skrypty/accuracy/jupyter/daneWyniki/dane01.gpkg\n",
      "/home/u1/03_Programowanie/03Python/skrypty/accuracy/jupyter/daneWyniki/dane01.csv\n",
      "/home/u1/03_Programowanie/03Python/skrypty/accuracy/jupyter/daneWyniki/cros01.csv\n",
      "/home/u1/03_Programowanie/03Python/skrypty/accuracy/jupyter/daneWyniki/labels01.json\n"
     ]
    }
   ],
   "source": [
    "# adres pliku z danymi wejściowymi 'gpkg/shp'\n",
    "adGpkg = Path('daneWyniki/dane01.gpkg').resolve()\n",
    "\n",
    "# adres pliku z wybranymi kolumnami\n",
    "adDf = adGpkg.with_suffix('.csv')\n",
    "\n",
    "# adres do zapisania cross matrix\n",
    "adCros = Path('daneWyniki/cros01.csv').resolve()\n",
    "\n",
    "# adres pliku z etykietami referencyjnymi\n",
    "adLabels = Path('daneWyniki/labels01.json').resolve().as_posix()\n",
    "\n",
    "print(f'{adGpkg}\\n{adDf}\\n{adCros}\\n{adLabels}')"
   ]
  },
  {
   "cell_type": "markdown",
   "metadata": {},
   "source": [
    "# 1. Przegląd danych pliku gpkg"
   ]
  },
  {
   "cell_type": "code",
   "execution_count": 5,
   "metadata": {},
   "outputs": [
    {
     "ename": "DriverError",
     "evalue": "/home/u1/03_Programowanie/03Python/skrypty/accuracy/jupyter/daneWyniki/dane01.gpkg: No such file or directory",
     "output_type": "error",
     "traceback": [
      "\u001b[0;31m---------------------------------------------------------------------------\u001b[0m",
      "\u001b[0;31mCPLE_OpenFailedError\u001b[0m                      Traceback (most recent call last)",
      "\u001b[0;32mfiona/_shim.pyx\u001b[0m in \u001b[0;36mfiona._shim.gdal_open_vector\u001b[0;34m()\u001b[0m\n",
      "\u001b[0;32mfiona/_err.pyx\u001b[0m in \u001b[0;36mfiona._err.exc_wrap_pointer\u001b[0;34m()\u001b[0m\n",
      "\u001b[0;31mCPLE_OpenFailedError\u001b[0m: /home/u1/03_Programowanie/03Python/skrypty/accuracy/jupyter/daneWyniki/dane01.gpkg: No such file or directory",
      "\nDuring handling of the above exception, another exception occurred:\n",
      "\u001b[0;31mDriverError\u001b[0m                               Traceback (most recent call last)",
      "\u001b[0;32m<ipython-input-5-b8bee43d341d>\u001b[0m in \u001b[0;36m<module>\u001b[0;34m\u001b[0m\n\u001b[0;32m----> 1\u001b[0;31m \u001b[0;32mwith\u001b[0m \u001b[0mfiona\u001b[0m\u001b[0;34m.\u001b[0m\u001b[0mopen\u001b[0m\u001b[0;34m(\u001b[0m\u001b[0madGpkg\u001b[0m\u001b[0;34m.\u001b[0m\u001b[0mas_posix\u001b[0m\u001b[0;34m(\u001b[0m\u001b[0;34m)\u001b[0m\u001b[0;34m,\u001b[0m\u001b[0mencoding\u001b[0m\u001b[0;34m=\u001b[0m\u001b[0;34m'Windows-1250'\u001b[0m\u001b[0;34m)\u001b[0m \u001b[0;32mas\u001b[0m \u001b[0msrc\u001b[0m\u001b[0;34m:\u001b[0m\u001b[0;34m\u001b[0m\u001b[0;34m\u001b[0m\u001b[0m\n\u001b[0m\u001b[1;32m      2\u001b[0m     \u001b[0mprint\u001b[0m\u001b[0;34m(\u001b[0m\u001b[0msrc\u001b[0m\u001b[0;34m[\u001b[0m\u001b[0;36m1\u001b[0m\u001b[0;34m]\u001b[0m\u001b[0;34m[\u001b[0m\u001b[0;34m'properties'\u001b[0m\u001b[0;34m]\u001b[0m\u001b[0;34m.\u001b[0m\u001b[0mkeys\u001b[0m\u001b[0;34m(\u001b[0m\u001b[0;34m)\u001b[0m\u001b[0;34m,\u001b[0m\u001b[0;34m'\\n\\n'\u001b[0m\u001b[0;34m)\u001b[0m\u001b[0;34m\u001b[0m\u001b[0;34m\u001b[0m\u001b[0m\n\u001b[1;32m      3\u001b[0m     \u001b[0mprint\u001b[0m\u001b[0;34m(\u001b[0m\u001b[0msrc\u001b[0m\u001b[0;34m[\u001b[0m\u001b[0;36m1\u001b[0m\u001b[0;34m]\u001b[0m\u001b[0;34m[\u001b[0m\u001b[0;34m'properties'\u001b[0m\u001b[0;34m]\u001b[0m\u001b[0;34m[\u001b[0m\u001b[0;34m'roslinaFul'\u001b[0m\u001b[0;34m]\u001b[0m\u001b[0;34m,\u001b[0m\u001b[0;34m'\\n\\n'\u001b[0m\u001b[0;34m)\u001b[0m\u001b[0;34m\u001b[0m\u001b[0;34m\u001b[0m\u001b[0m\n\u001b[1;32m      4\u001b[0m     \u001b[0mrosl\u001b[0m \u001b[0;34m=\u001b[0m \u001b[0;34m[\u001b[0m\u001b[0;34m]\u001b[0m\u001b[0;34m\u001b[0m\u001b[0;34m\u001b[0m\u001b[0m\n\u001b[1;32m      5\u001b[0m     \u001b[0;32mfor\u001b[0m \u001b[0mit\u001b[0m \u001b[0;32min\u001b[0m \u001b[0msrc\u001b[0m\u001b[0;34m:\u001b[0m\u001b[0;34m\u001b[0m\u001b[0;34m\u001b[0m\u001b[0m\n",
      "\u001b[0;32m~/anaconda3/envs/gis/lib/python3.7/site-packages/fiona/env.py\u001b[0m in \u001b[0;36mwrapper\u001b[0;34m(*args, **kwargs)\u001b[0m\n\u001b[1;32m    405\u001b[0m             \u001b[0;32mwith\u001b[0m \u001b[0mEnv\u001b[0m\u001b[0;34m.\u001b[0m\u001b[0mfrom_defaults\u001b[0m\u001b[0;34m(\u001b[0m\u001b[0msession\u001b[0m\u001b[0;34m=\u001b[0m\u001b[0msession\u001b[0m\u001b[0;34m)\u001b[0m\u001b[0;34m:\u001b[0m\u001b[0;34m\u001b[0m\u001b[0;34m\u001b[0m\u001b[0m\n\u001b[1;32m    406\u001b[0m                 \u001b[0mlog\u001b[0m\u001b[0;34m.\u001b[0m\u001b[0mdebug\u001b[0m\u001b[0;34m(\u001b[0m\u001b[0;34m\"Credentialized: {!r}\"\u001b[0m\u001b[0;34m.\u001b[0m\u001b[0mformat\u001b[0m\u001b[0;34m(\u001b[0m\u001b[0mgetenv\u001b[0m\u001b[0;34m(\u001b[0m\u001b[0;34m)\u001b[0m\u001b[0;34m)\u001b[0m\u001b[0;34m)\u001b[0m\u001b[0;34m\u001b[0m\u001b[0;34m\u001b[0m\u001b[0m\n\u001b[0;32m--> 407\u001b[0;31m                 \u001b[0;32mreturn\u001b[0m \u001b[0mf\u001b[0m\u001b[0;34m(\u001b[0m\u001b[0;34m*\u001b[0m\u001b[0margs\u001b[0m\u001b[0;34m,\u001b[0m \u001b[0;34m**\u001b[0m\u001b[0mkwargs\u001b[0m\u001b[0;34m)\u001b[0m\u001b[0;34m\u001b[0m\u001b[0;34m\u001b[0m\u001b[0m\n\u001b[0m\u001b[1;32m    408\u001b[0m     \u001b[0;32mreturn\u001b[0m \u001b[0mwrapper\u001b[0m\u001b[0;34m\u001b[0m\u001b[0;34m\u001b[0m\u001b[0m\n\u001b[1;32m    409\u001b[0m \u001b[0;34m\u001b[0m\u001b[0m\n",
      "\u001b[0;32m~/anaconda3/envs/gis/lib/python3.7/site-packages/fiona/__init__.py\u001b[0m in \u001b[0;36mopen\u001b[0;34m(fp, mode, driver, schema, crs, encoding, layer, vfs, enabled_drivers, crs_wkt, **kwargs)\u001b[0m\n\u001b[1;32m    252\u001b[0m         \u001b[0;32mif\u001b[0m \u001b[0mmode\u001b[0m \u001b[0;32min\u001b[0m \u001b[0;34m(\u001b[0m\u001b[0;34m'a'\u001b[0m\u001b[0;34m,\u001b[0m \u001b[0;34m'r'\u001b[0m\u001b[0;34m)\u001b[0m\u001b[0;34m:\u001b[0m\u001b[0;34m\u001b[0m\u001b[0;34m\u001b[0m\u001b[0m\n\u001b[1;32m    253\u001b[0m             c = Collection(path, mode, driver=driver, encoding=encoding,\n\u001b[0;32m--> 254\u001b[0;31m                            layer=layer, enabled_drivers=enabled_drivers, **kwargs)\n\u001b[0m\u001b[1;32m    255\u001b[0m         \u001b[0;32melif\u001b[0m \u001b[0mmode\u001b[0m \u001b[0;34m==\u001b[0m \u001b[0;34m'w'\u001b[0m\u001b[0;34m:\u001b[0m\u001b[0;34m\u001b[0m\u001b[0;34m\u001b[0m\u001b[0m\n\u001b[1;32m    256\u001b[0m             \u001b[0;32mif\u001b[0m \u001b[0mschema\u001b[0m\u001b[0;34m:\u001b[0m\u001b[0;34m\u001b[0m\u001b[0;34m\u001b[0m\u001b[0m\n",
      "\u001b[0;32m~/anaconda3/envs/gis/lib/python3.7/site-packages/fiona/collection.py\u001b[0m in \u001b[0;36m__init__\u001b[0;34m(self, path, mode, driver, schema, crs, encoding, layer, vsi, archive, enabled_drivers, crs_wkt, ignore_fields, ignore_geometry, **kwargs)\u001b[0m\n\u001b[1;32m    152\u001b[0m             \u001b[0;32mif\u001b[0m \u001b[0mself\u001b[0m\u001b[0;34m.\u001b[0m\u001b[0mmode\u001b[0m \u001b[0;34m==\u001b[0m \u001b[0;34m'r'\u001b[0m\u001b[0;34m:\u001b[0m\u001b[0;34m\u001b[0m\u001b[0;34m\u001b[0m\u001b[0m\n\u001b[1;32m    153\u001b[0m                 \u001b[0mself\u001b[0m\u001b[0;34m.\u001b[0m\u001b[0msession\u001b[0m \u001b[0;34m=\u001b[0m \u001b[0mSession\u001b[0m\u001b[0;34m(\u001b[0m\u001b[0;34m)\u001b[0m\u001b[0;34m\u001b[0m\u001b[0;34m\u001b[0m\u001b[0m\n\u001b[0;32m--> 154\u001b[0;31m                 \u001b[0mself\u001b[0m\u001b[0;34m.\u001b[0m\u001b[0msession\u001b[0m\u001b[0;34m.\u001b[0m\u001b[0mstart\u001b[0m\u001b[0;34m(\u001b[0m\u001b[0mself\u001b[0m\u001b[0;34m,\u001b[0m \u001b[0;34m**\u001b[0m\u001b[0mkwargs\u001b[0m\u001b[0;34m)\u001b[0m\u001b[0;34m\u001b[0m\u001b[0;34m\u001b[0m\u001b[0m\n\u001b[0m\u001b[1;32m    155\u001b[0m             \u001b[0;32melif\u001b[0m \u001b[0mself\u001b[0m\u001b[0;34m.\u001b[0m\u001b[0mmode\u001b[0m \u001b[0;32min\u001b[0m \u001b[0;34m(\u001b[0m\u001b[0;34m'a'\u001b[0m\u001b[0;34m,\u001b[0m \u001b[0;34m'w'\u001b[0m\u001b[0;34m)\u001b[0m\u001b[0;34m:\u001b[0m\u001b[0;34m\u001b[0m\u001b[0;34m\u001b[0m\u001b[0m\n\u001b[1;32m    156\u001b[0m                 \u001b[0mself\u001b[0m\u001b[0;34m.\u001b[0m\u001b[0msession\u001b[0m \u001b[0;34m=\u001b[0m \u001b[0mWritingSession\u001b[0m\u001b[0;34m(\u001b[0m\u001b[0;34m)\u001b[0m\u001b[0;34m\u001b[0m\u001b[0;34m\u001b[0m\u001b[0m\n",
      "\u001b[0;32mfiona/ogrext.pyx\u001b[0m in \u001b[0;36mfiona.ogrext.Session.start\u001b[0;34m()\u001b[0m\n",
      "\u001b[0;32mfiona/_shim.pyx\u001b[0m in \u001b[0;36mfiona._shim.gdal_open_vector\u001b[0;34m()\u001b[0m\n",
      "\u001b[0;31mDriverError\u001b[0m: /home/u1/03_Programowanie/03Python/skrypty/accuracy/jupyter/daneWyniki/dane01.gpkg: No such file or directory"
     ]
    }
   ],
   "source": [
    "with fiona.open(adGpkg.as_posix(),encoding='Windows-1250') as src:\n",
    "    print(src[1]['properties'].keys(),'\\n\\n')\n",
    "    print(src[1]['properties']['roslinaFul'],'\\n\\n')\n",
    "    rosl = []\n",
    "    for it in src:\n",
    "        #print(it['properties'].keys(),'\\n')\n",
    "        rosl.append(it['properties']['roslinaFul'])\n",
    "        \n",
    "print(set(rosl))"
   ]
  },
  {
   "cell_type": "markdown",
   "metadata": {},
   "source": [
    "# 2. DataFRame\n",
    "Pobranie danych z pliku `gpkg` - zapis do pd.DataFrame\n"
   ]
  },
  {
   "cell_type": "code",
   "execution_count": null,
   "metadata": {
    "scrolled": false
   },
   "outputs": [],
   "source": [
    "gid,rosl,ml1,ml2 = [],[],[],[]\n",
    "\n",
    "with fiona.open(adGpkg.as_posix(),encoding='Windows-1250') as src:\n",
    "    for it in src:\n",
    "        #gid.append(it['properties'].get('gid'))\n",
    "        rosl.append(it['properties'].get('roslinaFul'))\n",
    "        #ml1.append(it['properties'].get('_ML_20medi'))\n",
    "        ml2.append(int(it['properties'].get('_ML_20majo')))\n"
   ]
  },
  {
   "cell_type": "code",
   "execution_count": null,
   "metadata": {},
   "outputs": [],
   "source": [
    "#df = pd.DataFrame({'gid':gid,'roslFul':rosl, 'ML20majo':ml2})\n",
    "df = pd.DataFrame({'roslFul':rosl, 'ML20majo':ml2})\n",
    "df.columns = ['nazwa','predict']\n",
    "df.head()"
   ]
  },
  {
   "cell_type": "code",
   "execution_count": null,
   "metadata": {},
   "outputs": [],
   "source": [
    "# pokaz unikalne wartości kolumn\n",
    "for col in df.columns:\n",
    "    print(f'{col}:\\n{pd.unique(df.loc[:,col])}\\n')"
   ]
  },
  {
   "cell_type": "markdown",
   "metadata": {},
   "source": [
    "# 3. Kodowanie polskich znaków\n",
    "Poprawa nazw z polskimi literami"
   ]
  },
  {
   "cell_type": "code",
   "execution_count": null,
   "metadata": {},
   "outputs": [],
   "source": [
    "# get kolumn nazwa\n",
    "old = pd.unique(df.loc[:,'nazwa']).tolist()\n",
    "print(old)"
   ]
  },
  {
   "cell_type": "code",
   "execution_count": null,
   "metadata": {},
   "outputs": [],
   "source": [
    "new = ['kukurydza','burakC','rzepakO','jeczmienO','lucerna','trawy','pszenicaO','TUZ','zytoO','pszenicaJ',\n",
    " 'rzepikO','pszenzytoO','jeczmienJ','ziemniak','owies']\n",
    "print(new)"
   ]
  },
  {
   "cell_type": "code",
   "execution_count": null,
   "metadata": {},
   "outputs": [],
   "source": [
    "for o,n in zip(old,new):\n",
    "    idx = df.loc[:,'nazwa']==o\n",
    "    df.loc[idx,'nazwa'] = n"
   ]
  },
  {
   "cell_type": "code",
   "execution_count": null,
   "metadata": {
    "scrolled": true
   },
   "outputs": [],
   "source": [
    "# sprawdzenie\n",
    "pd.unique(df.loc[:,'nazwa'])"
   ]
  },
  {
   "cell_type": "code",
   "execution_count": null,
   "metadata": {},
   "outputs": [],
   "source": [
    "df"
   ]
  },
  {
   "cell_type": "markdown",
   "metadata": {},
   "source": [
    "# 4. Zapis danych do pliku"
   ]
  },
  {
   "cell_type": "code",
   "execution_count": null,
   "metadata": {},
   "outputs": [],
   "source": [
    "# zapisz dane jako csv\n",
    "#adDf = adGpkg.with_suffix('.csv')\n",
    "#df.to_csv(adDf,sep=';',index=False)"
   ]
  },
  {
   "cell_type": "markdown",
   "metadata": {},
   "source": [
    "# 5. Mapowanie etykiet referencyjnych do nowej kolumny\n",
    "\n",
    "- każdej nazwie rośliny przypisz etykietę liczbową lub znakową - `etykieta referencyjna`\n",
    "- zapisz te dane jako słownik - plik `json`\n",
    "\n",
    "### etykiety ręcznie podane i zapisane jako plik `json`\n",
    "```python\n",
    "labels = {'kukurydza':0,'pszenica jara':1, 'rzepik ozimy':2, 'pszenzyto ozime':3, 'jeczmien jary':4,\\\n",
    "         'ziemniak':5, 'owies':6, 'burak cukrowy':7, 'rzepak ozimy':8, 'jeczmien ozimy':9, 'lucerna':10, \\\n",
    "         'trawy':11, 'pszenica ozima':12, 'TUZ': 13, 'zyto ozime':14 }```"
   ]
  },
  {
   "cell_type": "raw",
   "metadata": {},
   "source": [
    "# dodaj nową kolumnę - etykiety referencyjne z watrtościam inicjującymi -99\n",
    "df.loc[:,'referencja'] = [-99 for x in range(df.shape[0])]"
   ]
  },
  {
   "cell_type": "code",
   "execution_count": null,
   "metadata": {},
   "outputs": [],
   "source": [
    "# ustala referencyjne etykiety liczbowe \n",
    "kod = list(range(len(new)))\n",
    "labels = dict(zip(new,kod))\n",
    "labels"
   ]
  },
  {
   "cell_type": "code",
   "execution_count": null,
   "metadata": {},
   "outputs": [],
   "source": [
    "for nazwa,kod in zip(new,kod):\n",
    "    idx = df.loc[:,'nazwa']==nazwa\n",
    "    df.loc[idx,'referencja'] = kod\n",
    "\n",
    "df = df.astype({'referencja':int})\n",
    "df"
   ]
  },
  {
   "cell_type": "code",
   "execution_count": null,
   "metadata": {},
   "outputs": [],
   "source": [
    "# zapisz dane jako csv\n",
    "#adDf = adGpkg.with_suffix('.csv')\n",
    "df.to_csv(adDf,sep=';',index=False)"
   ]
  },
  {
   "cell_type": "markdown",
   "metadata": {},
   "source": [
    "# cross matrix\n",
    "\n",
    "### 1. Układ macierzy\n",
    "  >- każda kolumna zawiera wyniki klasyfikacji czyli etykiety 'przewidywane' (`predicted`)\n",
    "  >- wiersze zawierają dane referencyjne czyli etykiety służące sprawdzeniu poprawności klasyfikacji\n",
    "  \n",
    "### 2. Sprawdzenie na danych próbnych układu kolumn"
   ]
  },
  {
   "cell_type": "code",
   "execution_count": null,
   "metadata": {},
   "outputs": [],
   "source": [
    "refTest = pd.Series(['Adam','Ewa','Marek'])\n",
    "predictTest = pd.Series(['men','kob','men'])\n",
    "print(refTest,'\\n\\n',predictTest)"
   ]
  },
  {
   "cell_type": "code",
   "execution_count": null,
   "metadata": {},
   "outputs": [],
   "source": [
    "pd.crosstab(refTest,predictTest,rownames=['referencje'],colnames=['predicted'])"
   ]
  },
  {
   "cell_type": "markdown",
   "metadata": {},
   "source": [
    "### 3. Cross\n",
    " - utworzenie nowych, skróconych nazw roślin - żeby mieściły się w kolumnach tabeli"
   ]
  },
  {
   "cell_type": "code",
   "execution_count": null,
   "metadata": {},
   "outputs": [],
   "source": [
    "cros = pd.crosstab(df.referencja,df.predict,rownames=['referencje'],colnames=['predicted'])\n",
    "cros"
   ]
  },
  {
   "cell_type": "code",
   "execution_count": null,
   "metadata": {},
   "outputs": [],
   "source": [
    "# na podstawie kolumn 'nazwa' i referencja tworzy słownik: {nazwa:referencja}\n",
    "nazwy = pd.unique(df.nazwa)\n",
    "kod = []\n",
    "for n in nazwy:\n",
    "    idx = df.loc[:,'nazwa'] == n\n",
    "    val = pd.unique(df.loc[idx,'referencja'])[0]\n",
    "    #print(val)\n",
    "    kod.append(val)\n",
    "    \n",
    "\n",
    "mapaNazw = dict((zip(kod,nazwy)))\n",
    "print(mapaNazw)"
   ]
  },
  {
   "cell_type": "code",
   "execution_count": null,
   "metadata": {},
   "outputs": [],
   "source": [
    "# na podstawie 'mapaNazw' tworzy indeks nazw dla cross matrix\n",
    "newIndex = []\n",
    "tmp = cros.columns.values.tolist()\n",
    "\n",
    "for i,k in enumerate(mapaNazw.keys()):\n",
    "    if tmp[i] == k:\n",
    "        newIndex.append(mapaNazw.get(k))\n",
    "\n",
    "newIndex"
   ]
  },
  {
   "cell_type": "code",
   "execution_count": null,
   "metadata": {},
   "outputs": [],
   "source": [
    "# ustaw nazwy kolumn i wierszy\n",
    "cros.columns = newIndex\n",
    "cros.axes[1].name='predicted'\n",
    "\n",
    "cros.index = newIndex\n",
    "cros.axes[0].name='referencje'\n",
    "\n",
    "cros"
   ]
  },
  {
   "cell_type": "code",
   "execution_count": null,
   "metadata": {},
   "outputs": [],
   "source": [
    "sum1 = cros.sum(axis=0)\n",
    "cros.loc['TotalKol',:] = sum1\n",
    "sum1"
   ]
  },
  {
   "cell_type": "code",
   "execution_count": null,
   "metadata": {},
   "outputs": [],
   "source": [
    "sum2 = cros.sum(axis=1)\n",
    "cros.loc[:,'TotalRow'] = sum2\n",
    "sum2"
   ]
  },
  {
   "cell_type": "code",
   "execution_count": null,
   "metadata": {},
   "outputs": [],
   "source": [
    "cros"
   ]
  },
  {
   "cell_type": "markdown",
   "metadata": {},
   "source": [
    "### 4. Zapisz cros matrix do `csv`\n",
    ">  `adCros = Path('cros1.csv').resolve()`"
   ]
  },
  {
   "cell_type": "code",
   "execution_count": null,
   "metadata": {},
   "outputs": [],
   "source": [
    "%ls"
   ]
  }
 ],
 "metadata": {
  "kernelspec": {
   "display_name": "Python [conda env:gis]",
   "language": "python",
   "name": "conda-env-gis-py"
  },
  "language_info": {
   "codemirror_mode": {
    "name": "ipython",
    "version": 3
   },
   "file_extension": ".py",
   "mimetype": "text/x-python",
   "name": "python",
   "nbconvert_exporter": "python",
   "pygments_lexer": "ipython3",
   "version": "3.7.7"
  },
  "latex_envs": {
   "LaTeX_envs_menu_present": true,
   "autoclose": false,
   "autocomplete": true,
   "bibliofile": "biblio.bib",
   "cite_by": "apalike",
   "current_citInitial": 1,
   "eqLabelWithNumbers": true,
   "eqNumInitial": 1,
   "hotkeys": {
    "equation": "Ctrl-E",
    "itemize": "Ctrl-I"
   },
   "labels_anchors": false,
   "latex_user_defs": false,
   "report_style_numbering": false,
   "user_envs_cfg": false
  }
 },
 "nbformat": 4,
 "nbformat_minor": 4
}
