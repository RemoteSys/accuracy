{
 "cells": [
  {
   "cell_type": "code",
   "execution_count": 27,
   "metadata": {},
   "outputs": [],
   "source": [
    "import pandas as pd"
   ]
  },
  {
   "cell_type": "code",
   "execution_count": 6,
   "metadata": {},
   "outputs": [
    {
     "data": {
      "text/plain": [
       "{'short': ['kukurydza',\n",
       "  'burakC',\n",
       "  'rzepakO',\n",
       "  'jeczmienO',\n",
       "  'lucerna',\n",
       "  'trawy',\n",
       "  'pszenicaO',\n",
       "  'TUZ',\n",
       "  'zytoO',\n",
       "  'pszenicaJ',\n",
       "  'rzepikO',\n",
       "  'pszenzytoO',\n",
       "  'jeczmienJ',\n",
       "  'ziemniak',\n",
       "  'owies',\n",
       "  'noData']}"
      ]
     },
     "execution_count": 6,
     "metadata": {},
     "output_type": "execute_result"
    }
   ],
   "source": [
    "sl = {'short': ['kukurydza','burakC','rzepakO','jeczmienO','lucerna', 'trawy','pszenicaO'\\\n",
    "                ,'TUZ','zytoO','pszenicaJ','rzepikO','pszenzytoO','jeczmienJ','ziemniak',\\\n",
    "                'owies','noData']}\n",
    "\n",
    "sl"
   ]
  },
  {
   "cell_type": "code",
   "execution_count": 7,
   "metadata": {},
   "outputs": [
    {
     "name": "stdout",
     "output_type": "stream",
     "text": [
      "{'short': ['kukurydza', 'burakC', 'rzepakO', 'jeczmienO', 'lucerna', 'trawy', 'pszenicaO', 'TUZ', 'zytoO', 'pszenicaJ', 'rzepikO', 'pszenzytoO', 'jeczmienJ', 'ziemniak', 'owies', 'noData'], 'long1': ['kukurydza', 'burak cuk', 'rzepak ozimy', 'jÄ™czmieĹ„ ozimy', 'lucerna', 'trawy', 'pszenica ozima', 'TUZ', 'ĹĽyto ozime', 'pszenica jara', 'rzepik ozimy', 'pszenĹĽyto ozime', 'jÄ™czmieĹ„ jary', 'ziemniak', 'owies', 'no data']}\n"
     ]
    }
   ],
   "source": [
    "sl['long1']= ['kukurydza', 'burak cuk', 'rzepak ozimy', 'jÄ™czmieĹ„ ozimy', 'lucerna', 'trawy', 'pszenica ozima',\\\n",
    "              'TUZ', 'ĹĽyto ozime', 'pszenica jara', 'rzepik ozimy', 'pszenĹĽyto ozime',\\\n",
    "              'jÄ™czmieĹ„ jary', 'ziemniak', 'owies','no data']\n",
    "\n",
    "print(sl)"
   ]
  },
  {
   "cell_type": "code",
   "execution_count": 18,
   "metadata": {},
   "outputs": [],
   "source": [
    "tmp = ['TUZ', 'burak cuk', 'jęczmień jary', 'jęczmień ozimy', 'kukurydza', 'lucerna', 'owies',\\\n",
    "       'pszenica jara', 'pszenica ozima', 'pszenżyto ozime', 'rzepak ozimy', 'rzepik ozimy',\\\n",
    "       'trawy', 'ziemniak', 'żyto ozime']"
   ]
  },
  {
   "cell_type": "code",
   "execution_count": 20,
   "metadata": {},
   "outputs": [
    {
     "data": {
      "text/plain": [
       "['TUZ',\n",
       " 'burak cuk',\n",
       " 'jęczmień jary',\n",
       " 'jęczmień ozimy',\n",
       " 'kukurydza',\n",
       " 'lucerna',\n",
       " 'owies',\n",
       " 'pszenica jara',\n",
       " 'pszenica ozima',\n",
       " 'pszenżyto ozime',\n",
       " 'rzepak ozimy',\n",
       " 'rzepik ozimy',\n",
       " 'trawy',\n",
       " 'ziemniak',\n",
       " 'żyto ozime']"
      ]
     },
     "execution_count": 20,
     "metadata": {},
     "output_type": "execute_result"
    }
   ],
   "source": [
    "tmp.sort()\n",
    "tmp"
   ]
  },
  {
   "cell_type": "code",
   "execution_count": 56,
   "metadata": {},
   "outputs": [],
   "source": [
    "s = ['kukurydza','burakC','rzepakO','jeczmienO','lucerna', 'trawy','pszenicaO'\\\n",
    "                ,'TUZ','zytoO','pszenicaJ','rzepikO','pszenzytoO','jeczmienJ','ziemniak',\\\n",
    "                'owies','noData']\n",
    "\n",
    "\n",
    "l1 = ['TUZ', 'burak cuk', 'jęczmień jary', 'jęczmień ozimy', 'kukurydza', 'lucerna', 'owies',\\\n",
    "       'pszenica jara', 'pszenica ozima', 'pszenżyto ozime', 'rzepak ozimy', 'rzepik ozimy',\\\n",
    "       'trawy', 'ziemniak', 'żyto ozime','no data']\n",
    "\n",
    "\n",
    "#l2 = ['kukurydza', 'burak cuk', 'rzepak ozimy', 'jÄ™czmieĹ„ ozimy', 'lucerna', 'trawy', 'pszenica ozima',\\\n",
    " #             'TUZ', 'ĹĽyto ozime', 'pszenica jara', 'rzepik ozimy', 'pszenĹĽyto ozime',\\\n",
    "  #            'jÄ™czmieĹ„ jary', 'ziemniak', 'owies','no data']"
   ]
  },
  {
   "cell_type": "code",
   "execution_count": 57,
   "metadata": {},
   "outputs": [],
   "source": [
    "true = [13,7,4,9,0,10,20,6,1,12,3,8,2,11,5,14]"
   ]
  },
  {
   "cell_type": "code",
   "execution_count": 58,
   "metadata": {},
   "outputs": [
    {
     "data": {
      "text/plain": [
       "[(13, 'TUZ', 'TUZ'),\n",
       " (7, 'burakC', 'burak cuk'),\n",
       " (4, 'jeczmienJ', 'jęczmień jary'),\n",
       " (9, 'jeczmienO', 'jęczmień ozimy'),\n",
       " (0, 'kukurydza', 'kukurydza'),\n",
       " (10, 'lucerna', 'lucerna'),\n",
       " (20, 'noData', 'no data'),\n",
       " (6, 'owies', 'owies'),\n",
       " (1, 'pszenicaJ', 'pszenica jara'),\n",
       " (12, 'pszenicaO', 'pszenica ozima'),\n",
       " (3, 'pszenzytoO', 'pszenżyto ozime'),\n",
       " (8, 'rzepakO', 'rzepak ozimy'),\n",
       " (2, 'rzepikO', 'rzepik ozimy'),\n",
       " (11, 'trawy', 'trawy'),\n",
       " (5, 'ziemniak', 'ziemniak'),\n",
       " (14, 'zytoO', 'żyto ozime')]"
      ]
     },
     "execution_count": 58,
     "metadata": {},
     "output_type": "execute_result"
    }
   ],
   "source": [
    "s.sort()\n",
    "l1.sort()\n",
    "#l2.sort()\n",
    "st = list(zip(true,s,l1))\n",
    "st"
   ]
  },
  {
   "cell_type": "code",
   "execution_count": 59,
   "metadata": {},
   "outputs": [],
   "source": [
    "kols = ['true','short','long']"
   ]
  },
  {
   "cell_type": "code",
   "execution_count": 60,
   "metadata": {},
   "outputs": [
    {
     "data": {
      "text/html": [
       "<div>\n",
       "<style scoped>\n",
       "    .dataframe tbody tr th:only-of-type {\n",
       "        vertical-align: middle;\n",
       "    }\n",
       "\n",
       "    .dataframe tbody tr th {\n",
       "        vertical-align: top;\n",
       "    }\n",
       "\n",
       "    .dataframe thead th {\n",
       "        text-align: right;\n",
       "    }\n",
       "</style>\n",
       "<table border=\"1\" class=\"dataframe\">\n",
       "  <thead>\n",
       "    <tr style=\"text-align: right;\">\n",
       "      <th></th>\n",
       "      <th>short</th>\n",
       "      <th>long</th>\n",
       "    </tr>\n",
       "    <tr>\n",
       "      <th>true</th>\n",
       "      <th></th>\n",
       "      <th></th>\n",
       "    </tr>\n",
       "  </thead>\n",
       "  <tbody>\n",
       "    <tr>\n",
       "      <th>0</th>\n",
       "      <td>kukurydza</td>\n",
       "      <td>kukurydza</td>\n",
       "    </tr>\n",
       "    <tr>\n",
       "      <th>1</th>\n",
       "      <td>pszenicaJ</td>\n",
       "      <td>pszenica jara</td>\n",
       "    </tr>\n",
       "    <tr>\n",
       "      <th>2</th>\n",
       "      <td>rzepikO</td>\n",
       "      <td>rzepik ozimy</td>\n",
       "    </tr>\n",
       "    <tr>\n",
       "      <th>3</th>\n",
       "      <td>pszenzytoO</td>\n",
       "      <td>pszenżyto ozime</td>\n",
       "    </tr>\n",
       "    <tr>\n",
       "      <th>4</th>\n",
       "      <td>jeczmienJ</td>\n",
       "      <td>jęczmień jary</td>\n",
       "    </tr>\n",
       "    <tr>\n",
       "      <th>5</th>\n",
       "      <td>ziemniak</td>\n",
       "      <td>ziemniak</td>\n",
       "    </tr>\n",
       "    <tr>\n",
       "      <th>6</th>\n",
       "      <td>owies</td>\n",
       "      <td>owies</td>\n",
       "    </tr>\n",
       "    <tr>\n",
       "      <th>7</th>\n",
       "      <td>burakC</td>\n",
       "      <td>burak cuk</td>\n",
       "    </tr>\n",
       "    <tr>\n",
       "      <th>8</th>\n",
       "      <td>rzepakO</td>\n",
       "      <td>rzepak ozimy</td>\n",
       "    </tr>\n",
       "    <tr>\n",
       "      <th>9</th>\n",
       "      <td>jeczmienO</td>\n",
       "      <td>jęczmień ozimy</td>\n",
       "    </tr>\n",
       "    <tr>\n",
       "      <th>10</th>\n",
       "      <td>lucerna</td>\n",
       "      <td>lucerna</td>\n",
       "    </tr>\n",
       "    <tr>\n",
       "      <th>11</th>\n",
       "      <td>trawy</td>\n",
       "      <td>trawy</td>\n",
       "    </tr>\n",
       "    <tr>\n",
       "      <th>12</th>\n",
       "      <td>pszenicaO</td>\n",
       "      <td>pszenica ozima</td>\n",
       "    </tr>\n",
       "    <tr>\n",
       "      <th>13</th>\n",
       "      <td>TUZ</td>\n",
       "      <td>TUZ</td>\n",
       "    </tr>\n",
       "    <tr>\n",
       "      <th>14</th>\n",
       "      <td>zytoO</td>\n",
       "      <td>żyto ozime</td>\n",
       "    </tr>\n",
       "    <tr>\n",
       "      <th>20</th>\n",
       "      <td>noData</td>\n",
       "      <td>no data</td>\n",
       "    </tr>\n",
       "  </tbody>\n",
       "</table>\n",
       "</div>"
      ],
      "text/plain": [
       "           short             long\n",
       "true                             \n",
       "0      kukurydza        kukurydza\n",
       "1      pszenicaJ    pszenica jara\n",
       "2        rzepikO     rzepik ozimy\n",
       "3     pszenzytoO  pszenżyto ozime\n",
       "4      jeczmienJ    jęczmień jary\n",
       "5       ziemniak         ziemniak\n",
       "6          owies            owies\n",
       "7         burakC        burak cuk\n",
       "8        rzepakO     rzepak ozimy\n",
       "9      jeczmienO   jęczmień ozimy\n",
       "10       lucerna          lucerna\n",
       "11         trawy            trawy\n",
       "12     pszenicaO   pszenica ozima\n",
       "13           TUZ              TUZ\n",
       "14         zytoO       żyto ozime\n",
       "20        noData          no data"
      ]
     },
     "execution_count": 60,
     "metadata": {},
     "output_type": "execute_result"
    }
   ],
   "source": [
    "df = pd.DataFrame(st,columns=kols).sort_values(by=['true'])\n",
    "df = df.set_index('true')\n",
    "df"
   ]
  },
  {
   "cell_type": "code",
   "execution_count": 65,
   "metadata": {},
   "outputs": [
    {
     "data": {
      "text/html": [
       "<div>\n",
       "<style scoped>\n",
       "    .dataframe tbody tr th:only-of-type {\n",
       "        vertical-align: middle;\n",
       "    }\n",
       "\n",
       "    .dataframe tbody tr th {\n",
       "        vertical-align: top;\n",
       "    }\n",
       "\n",
       "    .dataframe thead th {\n",
       "        text-align: right;\n",
       "    }\n",
       "</style>\n",
       "<table border=\"1\" class=\"dataframe\">\n",
       "  <thead>\n",
       "    <tr style=\"text-align: right;\">\n",
       "      <th></th>\n",
       "      <th>id</th>\n",
       "      <th>nazwa</th>\n",
       "      <th>predict</th>\n",
       "    </tr>\n",
       "  </thead>\n",
       "  <tbody>\n",
       "    <tr>\n",
       "      <th>0</th>\n",
       "      <td>8253</td>\n",
       "      <td>TUZ</td>\n",
       "      <td>11</td>\n",
       "    </tr>\n",
       "    <tr>\n",
       "      <th>1</th>\n",
       "      <td>11654</td>\n",
       "      <td>TUZ</td>\n",
       "      <td>11</td>\n",
       "    </tr>\n",
       "    <tr>\n",
       "      <th>2</th>\n",
       "      <td>4047</td>\n",
       "      <td>TUZ</td>\n",
       "      <td>11</td>\n",
       "    </tr>\n",
       "    <tr>\n",
       "      <th>3</th>\n",
       "      <td>7936</td>\n",
       "      <td>TUZ</td>\n",
       "      <td>13</td>\n",
       "    </tr>\n",
       "    <tr>\n",
       "      <th>4</th>\n",
       "      <td>20320</td>\n",
       "      <td>TUZ</td>\n",
       "      <td>13</td>\n",
       "    </tr>\n",
       "    <tr>\n",
       "      <th>...</th>\n",
       "      <td>...</td>\n",
       "      <td>...</td>\n",
       "      <td>...</td>\n",
       "    </tr>\n",
       "    <tr>\n",
       "      <th>2381</th>\n",
       "      <td>11658</td>\n",
       "      <td>żyto ozime</td>\n",
       "      <td>14</td>\n",
       "    </tr>\n",
       "    <tr>\n",
       "      <th>2382</th>\n",
       "      <td>4451</td>\n",
       "      <td>żyto ozime</td>\n",
       "      <td>9</td>\n",
       "    </tr>\n",
       "    <tr>\n",
       "      <th>2383</th>\n",
       "      <td>2648</td>\n",
       "      <td>żyto ozime</td>\n",
       "      <td>9</td>\n",
       "    </tr>\n",
       "    <tr>\n",
       "      <th>2384</th>\n",
       "      <td>9476</td>\n",
       "      <td>żyto ozime</td>\n",
       "      <td>14</td>\n",
       "    </tr>\n",
       "    <tr>\n",
       "      <th>2385</th>\n",
       "      <td>4757</td>\n",
       "      <td>żyto ozime</td>\n",
       "      <td>12</td>\n",
       "    </tr>\n",
       "  </tbody>\n",
       "</table>\n",
       "<p>2386 rows × 3 columns</p>\n",
       "</div>"
      ],
      "text/plain": [
       "         id       nazwa  predict\n",
       "0      8253         TUZ       11\n",
       "1     11654         TUZ       11\n",
       "2      4047         TUZ       11\n",
       "3      7936         TUZ       13\n",
       "4     20320         TUZ       13\n",
       "...     ...         ...      ...\n",
       "2381  11658  żyto ozime       14\n",
       "2382   4451  żyto ozime        9\n",
       "2383   2648  żyto ozime        9\n",
       "2384   9476  żyto ozime       14\n",
       "2385   4757  żyto ozime       12\n",
       "\n",
       "[2386 rows x 3 columns]"
      ]
     },
     "execution_count": 65,
     "metadata": {},
     "output_type": "execute_result"
    }
   ],
   "source": [
    "clas = pd.read_csv('/home/u1/03_Programowanie/03Python/skrypty/clipRasterVector/testy/ndviClipped.csv',sep=';')\n",
    "clas"
   ]
  },
  {
   "cell_type": "code",
   "execution_count": 64,
   "metadata": {},
   "outputs": [
    {
     "name": "stdout",
     "output_type": "stream",
     "text": [
      "cros01.csv  dane01.gpkg   r02_trueFalse.csv   r04_modern1.csv  raport.html\r\n",
      "dane01.csv  r01_cros.csv  r03_classicAcc.csv  r05_modern2.csv\r\n"
     ]
    }
   ],
   "source": [
    "%ls ../testy/\n"
   ]
  },
  {
   "cell_type": "code",
   "execution_count": null,
   "metadata": {},
   "outputs": [],
   "source": []
  },
  {
   "cell_type": "code",
   "execution_count": null,
   "metadata": {},
   "outputs": [],
   "source": []
  },
  {
   "cell_type": "code",
   "execution_count": 61,
   "metadata": {},
   "outputs": [
    {
     "data": {
      "text/plain": [
       "[(0, 'kukurydza', 'kukurydza'),\n",
       " (1, 'pszenicaJ', 'pszenica jara'),\n",
       " (2, 'rzepikO', 'rzepik ozimy'),\n",
       " (3, 'pszenzytoO', 'pszenżyto ozime'),\n",
       " (4, 'jeczmienJ', 'jęczmień jary'),\n",
       " (5, 'ziemniak', 'ziemniak'),\n",
       " (6, 'owies', 'owies'),\n",
       " (7, 'burakC', 'burak cuk'),\n",
       " (8, 'rzepakO', 'rzepak ozimy'),\n",
       " (9, 'jeczmienO', 'jęczmień ozimy'),\n",
       " (10, 'lucerna', 'lucerna'),\n",
       " (11, 'trawy', 'trawy'),\n",
       " (12, 'pszenicaO', 'pszenica ozima'),\n",
       " (13, 'TUZ', 'TUZ'),\n",
       " (14, 'zytoO', 'żyto ozime'),\n",
       " (20, 'noData', 'no data')]"
      ]
     },
     "execution_count": 61,
     "metadata": {},
     "output_type": "execute_result"
    }
   ],
   "source": [
    "ll = df.to_records().tolist()\n",
    "ll"
   ]
  }
 ],
 "metadata": {
  "kernelspec": {
   "display_name": "Python [conda env:gis]",
   "language": "python",
   "name": "conda-env-gis-py"
  },
  "language_info": {
   "codemirror_mode": {
    "name": "ipython",
    "version": 3
   },
   "file_extension": ".py",
   "mimetype": "text/x-python",
   "name": "python",
   "nbconvert_exporter": "python",
   "pygments_lexer": "ipython3",
   "version": "3.7.7"
  },
  "latex_envs": {
   "LaTeX_envs_menu_present": true,
   "autoclose": false,
   "autocomplete": true,
   "bibliofile": "biblio.bib",
   "cite_by": "apalike",
   "current_citInitial": 1,
   "eqLabelWithNumbers": true,
   "eqNumInitial": 1,
   "hotkeys": {
    "equation": "Ctrl-E",
    "itemize": "Ctrl-I"
   },
   "labels_anchors": false,
   "latex_user_defs": false,
   "report_style_numbering": false,
   "user_envs_cfg": false
  }
 },
 "nbformat": 4,
 "nbformat_minor": 4
}
