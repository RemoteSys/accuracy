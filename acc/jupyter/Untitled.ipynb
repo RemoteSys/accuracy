{
 "cells": [
  {
   "cell_type": "code",
   "execution_count": 1,
   "metadata": {},
   "outputs": [],
   "source": [
    "import pandas as pd\n",
    "import numpy as np\n",
    "from pathlib import Path\n",
    "from tabulate import _table_formats, tabulate\n",
    "import re"
   ]
  },
  {
   "cell_type": "code",
   "execution_count": 2,
   "metadata": {},
   "outputs": [],
   "source": [
    "np.set_printoptions(precision=9,linewidth=150)\n",
    "pd.set_option('expand_frame_repr', True)\n",
    "pd.set_option('precision', 9)"
   ]
  },
  {
   "cell_type": "code",
   "execution_count": 3,
   "metadata": {},
   "outputs": [],
   "source": [
    "#pd.get_option('*')"
   ]
  },
  {
   "cell_type": "code",
   "execution_count": 4,
   "metadata": {},
   "outputs": [
    {
     "data": {
      "text/html": [
       "<div>\n",
       "<style scoped>\n",
       "    .dataframe tbody tr th:only-of-type {\n",
       "        vertical-align: middle;\n",
       "    }\n",
       "\n",
       "    .dataframe tbody tr th {\n",
       "        vertical-align: top;\n",
       "    }\n",
       "\n",
       "    .dataframe thead th {\n",
       "        text-align: right;\n",
       "    }\n",
       "</style>\n",
       "<table border=\"1\" class=\"dataframe\">\n",
       "  <thead>\n",
       "    <tr style=\"text-align: right;\">\n",
       "      <th>predict</th>\n",
       "      <th>water</th>\n",
       "      <th>forest</th>\n",
       "      <th>urban</th>\n",
       "    </tr>\n",
       "    <tr>\n",
       "      <th>referencje</th>\n",
       "      <th></th>\n",
       "      <th></th>\n",
       "      <th></th>\n",
       "    </tr>\n",
       "  </thead>\n",
       "  <tbody>\n",
       "    <tr>\n",
       "      <th>water</th>\n",
       "      <td>21</td>\n",
       "      <td>5</td>\n",
       "      <td>7</td>\n",
       "    </tr>\n",
       "    <tr>\n",
       "      <th>forest</th>\n",
       "      <td>6</td>\n",
       "      <td>31</td>\n",
       "      <td>2</td>\n",
       "    </tr>\n",
       "    <tr>\n",
       "      <th>urban</th>\n",
       "      <td>0</td>\n",
       "      <td>1</td>\n",
       "      <td>22</td>\n",
       "    </tr>\n",
       "  </tbody>\n",
       "</table>\n",
       "</div>"
      ],
      "text/plain": [
       "predict     water  forest  urban\n",
       "referencje                      \n",
       "water          21       5      7\n",
       "forest          6      31      2\n",
       "urban           0       1     22"
      ]
     },
     "execution_count": 4,
     "metadata": {},
     "output_type": "execute_result"
    }
   ],
   "source": [
    "nazwy = ['water','forest','urban'] # nazwy kolumn i wierszy (są takie same)\n",
    "value = [[21,5,7],[6,31,2],[0,1,22]] # liczby w komórkach\n",
    "cros = pd.DataFrame(value,columns=nazwy,index=nazwy)\n",
    "\n",
    "# nazwy indeksów kolumn i wierszy\n",
    "cros.axes[0].name='referencje'\n",
    "cros.axes[1].name='predict'\n",
    "cros"
   ]
  },
  {
   "cell_type": "code",
   "execution_count": null,
   "metadata": {},
   "outputs": [],
   "source": [
    "\n",
    "\n"
   ]
  },
  {
   "cell_type": "code",
   "execution_count": 5,
   "metadata": {
    "scrolled": true
   },
   "outputs": [
    {
     "data": {
      "text/plain": [
       "predict\n",
       "water     27\n",
       "forest    37\n",
       "urban     31\n",
       "dtype: int64"
      ]
     },
     "execution_count": 5,
     "metadata": {},
     "output_type": "execute_result"
    }
   ],
   "source": [
    "cros.sum()"
   ]
  },
  {
   "cell_type": "code",
   "execution_count": 6,
   "metadata": {},
   "outputs": [],
   "source": [
    "class accIndex:\n",
    "    \n",
    "    def __init__(self,data,precision=7):\n",
    "        self.data = data.copy()\n",
    "\n",
    "    # ....................................................\n",
    "\n",
    "    def _acc(self):\n",
    "        ''' accuracy (ACC):\n",
    "            ACC = (TP+TN)/(P+N) = (TP+TN)/(TP+TN+FP+FN)\n",
    "        '''\n",
    "        tf = trueFalse.copy().astype(np.float128)\n",
    "        licznik = tf.loc[['TP','TN'],:].sum(axis=0)\n",
    "        mian = tf.loc[['TP','TN','FP','FN'],:].sum(axis=0)\n",
    "        #print(f'\\n\\nSprrrrrr:\\n\\n{licznik}\\n\\n{mian}\\n\\nkonirc\\n\\n')\n",
    "        return licznik/mian\n",
    "\n",
    "\n",
    "    def _ppv(trueFalse,prec=2):\n",
    "        ''' precision or positive predictive value (PPV)\n",
    "            PPV = TP / (TP + FP)\n",
    "        '''\n",
    "        tf = trueFalse.copy().astype(np.float128)\n",
    "        licznik = tf.loc['TP',:]\n",
    "        mian = tf.loc[['TP','FP'],:].sum(axis=0)\n",
    "        return licznik/mian\n"
   ]
  },
  {
   "cell_type": "code",
   "execution_count": 7,
   "metadata": {},
   "outputs": [
    {
     "data": {
      "text/plain": [
       "['__class__',\n",
       " '__delattr__',\n",
       " '__dict__',\n",
       " '__dir__',\n",
       " '__doc__',\n",
       " '__eq__',\n",
       " '__format__',\n",
       " '__ge__',\n",
       " '__getattribute__',\n",
       " '__gt__',\n",
       " '__hash__',\n",
       " '__init__',\n",
       " '__init_subclass__',\n",
       " '__le__',\n",
       " '__lt__',\n",
       " '__module__',\n",
       " '__ne__',\n",
       " '__new__',\n",
       " '__reduce__',\n",
       " '__reduce_ex__',\n",
       " '__repr__',\n",
       " '__setattr__',\n",
       " '__sizeof__',\n",
       " '__str__',\n",
       " '__subclasshook__',\n",
       " '__weakref__',\n",
       " '_acc',\n",
       " '_ppv']"
      ]
     },
     "execution_count": 7,
     "metadata": {},
     "output_type": "execute_result"
    }
   ],
   "source": [
    "l = dir(accIndex)\n",
    "l"
   ]
  },
  {
   "cell_type": "code",
   "execution_count": 8,
   "metadata": {},
   "outputs": [
    {
     "data": {
      "text/plain": [
       "<re.Match object; span=(0, 8), match='_weakref'>"
      ]
     },
     "execution_count": 8,
     "metadata": {},
     "output_type": "execute_result"
    }
   ],
   "source": [
    "re.search(r'^_{1}[a-z]+','_weakref__')"
   ]
  },
  {
   "cell_type": "code",
   "execution_count": 9,
   "metadata": {},
   "outputs": [
    {
     "name": "stdout",
     "output_type": "stream",
     "text": [
      "_acc\n",
      "_ppv\n"
     ]
    }
   ],
   "source": [
    "for m in dir(accIndex):\n",
    "    if re.search(r'^_{1}[a-z]+',m):\n",
    "        print(re.search(r'^_{1}[a-z]+',m)[0])"
   ]
  },
  {
   "cell_type": "code",
   "execution_count": 10,
   "metadata": {},
   "outputs": [
    {
     "data": {
      "text/html": [
       "<div>\n",
       "<style scoped>\n",
       "    .dataframe tbody tr th:only-of-type {\n",
       "        vertical-align: middle;\n",
       "    }\n",
       "\n",
       "    .dataframe tbody tr th {\n",
       "        vertical-align: top;\n",
       "    }\n",
       "\n",
       "    .dataframe thead th {\n",
       "        text-align: right;\n",
       "    }\n",
       "</style>\n",
       "<table border=\"1\" class=\"dataframe\">\n",
       "  <thead>\n",
       "    <tr style=\"text-align: right;\">\n",
       "      <th></th>\n",
       "      <th>water</th>\n",
       "      <th>forest</th>\n",
       "      <th>urban</th>\n",
       "    </tr>\n",
       "  </thead>\n",
       "  <tbody>\n",
       "    <tr>\n",
       "      <th>TP</th>\n",
       "      <td>21.0</td>\n",
       "      <td>31.0</td>\n",
       "      <td>22.0</td>\n",
       "    </tr>\n",
       "    <tr>\n",
       "      <th>TN</th>\n",
       "      <td>56.0</td>\n",
       "      <td>50.0</td>\n",
       "      <td>63.0</td>\n",
       "    </tr>\n",
       "    <tr>\n",
       "      <th>FP</th>\n",
       "      <td>6.0</td>\n",
       "      <td>6.0</td>\n",
       "      <td>9.0</td>\n",
       "    </tr>\n",
       "    <tr>\n",
       "      <th>FN</th>\n",
       "      <td>12.0</td>\n",
       "      <td>8.0</td>\n",
       "      <td>1.0</td>\n",
       "    </tr>\n",
       "  </tbody>\n",
       "</table>\n",
       "</div>"
      ],
      "text/plain": [
       "    water  forest  urban\n",
       "TP   21.0    31.0   22.0\n",
       "TN   56.0    50.0   63.0\n",
       "FP    6.0     6.0    9.0\n",
       "FN   12.0     8.0    1.0"
      ]
     },
     "execution_count": 10,
     "metadata": {},
     "output_type": "execute_result"
    }
   ],
   "source": [
    "ax = '/home/u1/03_Programowanie/03Python/skrypty/accuracy/tmp/binTF.csv'\n",
    "binTF = [[21., 31., 22.],[56., 50., 63.],[ 6.,  6.,  9.],[12.,  8.,  1.]]\n",
    "binTF = pd.DataFrame(binTF, index=['TP', 'TN', 'FP', 'FN'], columns=['water', 'forest', 'urban'])\n",
    "binTF"
   ]
  },
  {
   "cell_type": "code",
   "execution_count": 11,
   "metadata": {},
   "outputs": [],
   "source": [
    "binTF.to_csv(ax,sep=';')"
   ]
  },
  {
   "cell_type": "code",
   "execution_count": 12,
   "metadata": {},
   "outputs": [
    {
     "data": {
      "text/html": [
       "<div>\n",
       "<style scoped>\n",
       "    .dataframe tbody tr th:only-of-type {\n",
       "        vertical-align: middle;\n",
       "    }\n",
       "\n",
       "    .dataframe tbody tr th {\n",
       "        vertical-align: top;\n",
       "    }\n",
       "\n",
       "    .dataframe thead th {\n",
       "        text-align: right;\n",
       "    }\n",
       "</style>\n",
       "<table border=\"1\" class=\"dataframe\">\n",
       "  <thead>\n",
       "    <tr style=\"text-align: right;\">\n",
       "      <th></th>\n",
       "      <th>acc</th>\n",
       "      <th>ppv</th>\n",
       "      <th>tpr</th>\n",
       "      <th>tnr</th>\n",
       "      <th>npv</th>\n",
       "      <th>fnr</th>\n",
       "      <th>fpr</th>\n",
       "      <th>fdr</th>\n",
       "      <th>foRate</th>\n",
       "      <th>ts</th>\n",
       "      <th>mcc</th>\n",
       "    </tr>\n",
       "  </thead>\n",
       "  <tbody>\n",
       "    <tr>\n",
       "      <th>water</th>\n",
       "      <td>0.810526316</td>\n",
       "      <td>0.777777778</td>\n",
       "      <td>0.636363636</td>\n",
       "      <td>0.903225806</td>\n",
       "      <td>0.823529412</td>\n",
       "      <td>0.363636364</td>\n",
       "      <td>0.096774194</td>\n",
       "      <td>0.222222222</td>\n",
       "      <td>0.176470588</td>\n",
       "      <td>0.538461538</td>\n",
       "      <td>0.569613037</td>\n",
       "    </tr>\n",
       "    <tr>\n",
       "      <th>forest</th>\n",
       "      <td>0.852631579</td>\n",
       "      <td>0.837837838</td>\n",
       "      <td>0.794871795</td>\n",
       "      <td>0.892857143</td>\n",
       "      <td>0.862068966</td>\n",
       "      <td>0.205128205</td>\n",
       "      <td>0.107142857</td>\n",
       "      <td>0.162162162</td>\n",
       "      <td>0.137931034</td>\n",
       "      <td>0.688888889</td>\n",
       "      <td>0.693791152</td>\n",
       "    </tr>\n",
       "    <tr>\n",
       "      <th>urban</th>\n",
       "      <td>0.894736842</td>\n",
       "      <td>0.709677419</td>\n",
       "      <td>0.956521739</td>\n",
       "      <td>0.875000000</td>\n",
       "      <td>0.984375000</td>\n",
       "      <td>0.043478261</td>\n",
       "      <td>0.125000000</td>\n",
       "      <td>0.290322581</td>\n",
       "      <td>0.015625000</td>\n",
       "      <td>0.687500000</td>\n",
       "      <td>0.759683931</td>\n",
       "    </tr>\n",
       "  </tbody>\n",
       "</table>\n",
       "</div>"
      ],
      "text/plain": [
       "                acc          ppv          tpr          tnr          npv  \\\n",
       "water   0.810526316  0.777777778  0.636363636  0.903225806  0.823529412   \n",
       "forest  0.852631579  0.837837838  0.794871795  0.892857143  0.862068966   \n",
       "urban   0.894736842  0.709677419  0.956521739  0.875000000  0.984375000   \n",
       "\n",
       "                fnr          fpr          fdr       foRate           ts  \\\n",
       "water   0.363636364  0.096774194  0.222222222  0.176470588  0.538461538   \n",
       "forest  0.205128205  0.107142857  0.162162162  0.137931034  0.688888889   \n",
       "urban   0.043478261  0.125000000  0.290322581  0.015625000  0.687500000   \n",
       "\n",
       "                mcc  \n",
       "water   0.569613037  \n",
       "forest  0.693791152  \n",
       "urban   0.759683931  "
      ]
     },
     "execution_count": 12,
     "metadata": {},
     "output_type": "execute_result"
    }
   ],
   "source": [
    "modern1 = pd.read_csv('/home/u1/03_Programowanie/03Python/skrypty/accuracy/tmp/r0binTF_2_modern1.csv',\\\n",
    "                      sep=';',index_col=0)\n",
    "modern1"
   ]
  },
  {
   "cell_type": "code",
   "execution_count": 13,
   "metadata": {},
   "outputs": [
    {
     "data": {
      "text/plain": [
       "Index(['acc', 'ppv', 'tpr', 'tnr', 'npv', 'fnr', 'fpr', 'fdr', 'foRate', 'ts',\n",
       "       'mcc'],\n",
       "      dtype='object')"
      ]
     },
     "execution_count": 13,
     "metadata": {},
     "output_type": "execute_result"
    }
   ],
   "source": [
    "modern1.columns"
   ]
  },
  {
   "cell_type": "code",
   "execution_count": 14,
   "metadata": {},
   "outputs": [
    {
     "data": {
      "text/plain": [
       "Index(['water', 'forest', 'urban'], dtype='object')"
      ]
     },
     "execution_count": 14,
     "metadata": {},
     "output_type": "execute_result"
    }
   ],
   "source": [
    "modern1.index"
   ]
  },
  {
   "cell_type": "code",
   "execution_count": 15,
   "metadata": {
    "scrolled": true
   },
   "outputs": [
    {
     "data": {
      "text/plain": [
       "array([[0.810526316, 0.777777778, 0.636363636, 0.903225806, 0.823529412, 0.363636364, 0.096774194, 0.222222222, 0.176470588, 0.538461538,\n",
       "        0.569613037],\n",
       "       [0.852631579, 0.837837838, 0.794871795, 0.892857143, 0.862068966, 0.205128205, 0.107142857, 0.162162162, 0.137931034, 0.688888889,\n",
       "        0.693791152],\n",
       "       [0.894736842, 0.709677419, 0.956521739, 0.875      , 0.984375   , 0.043478261, 0.125      , 0.290322581, 0.015625   , 0.6875     ,\n",
       "        0.759683931]])"
      ]
     },
     "execution_count": 15,
     "metadata": {},
     "output_type": "execute_result"
    }
   ],
   "source": [
    "modern1.to_numpy()"
   ]
  },
  {
   "cell_type": "code",
   "execution_count": 16,
   "metadata": {},
   "outputs": [
    {
     "data": {
      "text/html": [
       "<div>\n",
       "<style scoped>\n",
       "    .dataframe tbody tr th:only-of-type {\n",
       "        vertical-align: middle;\n",
       "    }\n",
       "\n",
       "    .dataframe tbody tr th {\n",
       "        vertical-align: top;\n",
       "    }\n",
       "\n",
       "    .dataframe thead th {\n",
       "        text-align: right;\n",
       "    }\n",
       "</style>\n",
       "<table border=\"1\" class=\"dataframe\">\n",
       "  <thead>\n",
       "    <tr style=\"text-align: right;\">\n",
       "      <th></th>\n",
       "      <th>pt</th>\n",
       "      <th>ba</th>\n",
       "      <th>f1</th>\n",
       "      <th>fm</th>\n",
       "      <th>bm</th>\n",
       "      <th>mk</th>\n",
       "    </tr>\n",
       "  </thead>\n",
       "  <tbody>\n",
       "    <tr>\n",
       "      <th>water</th>\n",
       "      <td>0.280558109</td>\n",
       "      <td>0.769794721</td>\n",
       "      <td>0.700000000</td>\n",
       "      <td>0.703526471</td>\n",
       "      <td>0.539589442</td>\n",
       "      <td>0.601307190</td>\n",
       "    </tr>\n",
       "    <tr>\n",
       "      <th>forest</th>\n",
       "      <td>0.268546633</td>\n",
       "      <td>0.843864469</td>\n",
       "      <td>0.815789474</td>\n",
       "      <td>0.816072096</td>\n",
       "      <td>0.687728938</td>\n",
       "      <td>0.699906804</td>\n",
       "    </tr>\n",
       "    <tr>\n",
       "      <th>urban</th>\n",
       "      <td>0.265515653</td>\n",
       "      <td>0.915760870</td>\n",
       "      <td>0.814814815</td>\n",
       "      <td>0.823906475</td>\n",
       "      <td>0.831521739</td>\n",
       "      <td>0.694052419</td>\n",
       "    </tr>\n",
       "  </tbody>\n",
       "</table>\n",
       "</div>"
      ],
      "text/plain": [
       "                 pt           ba           f1           fm           bm  \\\n",
       "water   0.280558109  0.769794721  0.700000000  0.703526471  0.539589442   \n",
       "forest  0.268546633  0.843864469  0.815789474  0.816072096  0.687728938   \n",
       "urban   0.265515653  0.915760870  0.814814815  0.823906475  0.831521739   \n",
       "\n",
       "                 mk  \n",
       "water   0.601307190  \n",
       "forest  0.699906804  \n",
       "urban   0.694052419  "
      ]
     },
     "execution_count": 16,
     "metadata": {},
     "output_type": "execute_result"
    }
   ],
   "source": [
    "modern2 = pd.read_csv('/home/u1/03_Programowanie/03Python/skrypty/accuracy/tmp/r0binTF_3_modern2.csv',\\\n",
    "                      sep=';',index_col=0)\n",
    "modern2"
   ]
  },
  {
   "cell_type": "code",
   "execution_count": 17,
   "metadata": {},
   "outputs": [
    {
     "data": {
      "text/plain": [
       "Index(['pt', 'ba', 'f1', 'fm', 'bm', 'mk'], dtype='object')"
      ]
     },
     "execution_count": 17,
     "metadata": {},
     "output_type": "execute_result"
    }
   ],
   "source": [
    "modern2.columns"
   ]
  },
  {
   "cell_type": "code",
   "execution_count": 18,
   "metadata": {},
   "outputs": [
    {
     "data": {
      "text/plain": [
       "Index(['water', 'forest', 'urban'], dtype='object')"
      ]
     },
     "execution_count": 18,
     "metadata": {},
     "output_type": "execute_result"
    }
   ],
   "source": [
    "modern2.index"
   ]
  },
  {
   "cell_type": "code",
   "execution_count": 19,
   "metadata": {
    "scrolled": true
   },
   "outputs": [
    {
     "data": {
      "text/plain": [
       "array([[0.280558109, 0.769794721, 0.7        , 0.703526471, 0.539589442, 0.60130719 ],\n",
       "       [0.268546633, 0.843864469, 0.815789474, 0.816072096, 0.687728938, 0.699906804],\n",
       "       [0.265515653, 0.91576087 , 0.814814815, 0.823906475, 0.831521739, 0.694052419]])"
      ]
     },
     "execution_count": 19,
     "metadata": {},
     "output_type": "execute_result"
    }
   ],
   "source": [
    "modern2.to_numpy()"
   ]
  },
  {
   "cell_type": "code",
   "execution_count": null,
   "metadata": {},
   "outputs": [],
   "source": []
  },
  {
   "cell_type": "code",
   "execution_count": 53,
   "metadata": {},
   "outputs": [],
   "source": [
    "ad=Path('/media/u1/1674-9C99/acc/RFout/')\n",
    "res='Result'"
   ]
  },
  {
   "cell_type": "code",
   "execution_count": 56,
   "metadata": {},
   "outputs": [
    {
     "name": "stdout",
     "output_type": "stream",
     "text": [
      "/media/u1/1674-9C99/acc/RFout/im01Result True\n",
      "/media/u1/1674-9C99/acc/RFout/im02Result True\n",
      "/media/u1/1674-9C99/acc/RFout/im03Result True\n",
      "/media/u1/1674-9C99/acc/RFout/im04Result True\n",
      "/media/u1/1674-9C99/acc/RFout/im05Result True\n",
      "/media/u1/1674-9C99/acc/RFout/im06Result True\n",
      "/media/u1/1674-9C99/acc/RFout/im07Result True\n",
      "/media/u1/1674-9C99/acc/RFout/im08Result True\n",
      "/media/u1/1674-9C99/acc/RFout/im09Result True\n"
     ]
    }
   ],
   "source": [
    "for it in ad.glob(\"*.tif\"):\n",
    "    name = it.name[:4]\n",
    "    name = f'{name}{res}'\n",
    "    tmp = it.with_name(name)\n",
    "    tmp.mkdir()\n",
    "    print(tmp,tmp.is_dir())"
   ]
  },
  {
   "cell_type": "code",
   "execution_count": 57,
   "metadata": {},
   "outputs": [
    {
     "data": {
      "text/plain": [
       "['/media/u1/1674-9C99/acc/RFout/im01Result',\n",
       " '/media/u1/1674-9C99/acc/RFout/im02Result',\n",
       " '/media/u1/1674-9C99/acc/RFout/im03Result',\n",
       " '/media/u1/1674-9C99/acc/RFout/im04Result',\n",
       " '/media/u1/1674-9C99/acc/RFout/im05Result',\n",
       " '/media/u1/1674-9C99/acc/RFout/im06Result',\n",
       " '/media/u1/1674-9C99/acc/RFout/im07Result',\n",
       " '/media/u1/1674-9C99/acc/RFout/im08Result',\n",
       " '/media/u1/1674-9C99/acc/RFout/im09Result']"
      ]
     },
     "execution_count": 57,
     "metadata": {},
     "output_type": "execute_result"
    }
   ],
   "source": [
    "ad=Path('/media/u1/1674-9C99/acc/RFout/')\n",
    "l = []\n",
    "for it in ad.glob(\"*\"):\n",
    "    if it.is_dir() and re.search(r'im\\d\\d',it.name):\n",
    "        l.append(it.resolve().as_posix())\n",
    "\n",
    "l"
   ]
  },
  {
   "cell_type": "code",
   "execution_count": 59,
   "metadata": {
    "scrolled": true
   },
   "outputs": [],
   "source": [
    "ad=Path('/media/u1/1674-9C99/acc/RFout/res/')\n",
    "for it in ad.glob(\"*\"):\n",
    "    txt = it.name[:4]\n",
    "    for new in l:\n",
    "        if txt in new:\n",
    "            #print(it.name,'\\n',new,'\\n\\n')\n",
    "            new = Path(new).joinpath(it.name)\n",
    "            it.rename(new)\n",
    "            #print(f'{it}\\n{new}\\n\\n')"
   ]
  },
  {
   "cell_type": "code",
   "execution_count": 64,
   "metadata": {},
   "outputs": [],
   "source": [
    "np.zeros?"
   ]
  }
 ],
 "metadata": {
  "kernelspec": {
   "display_name": "Python [conda env:gis]",
   "language": "python",
   "name": "conda-env-gis-py"
  },
  "language_info": {
   "codemirror_mode": {
    "name": "ipython",
    "version": 3
   },
   "file_extension": ".py",
   "mimetype": "text/x-python",
   "name": "python",
   "nbconvert_exporter": "python",
   "pygments_lexer": "ipython3",
   "version": "3.7.7"
  },
  "latex_envs": {
   "LaTeX_envs_menu_present": true,
   "autoclose": false,
   "autocomplete": true,
   "bibliofile": "biblio.bib",
   "cite_by": "apalike",
   "current_citInitial": 1,
   "eqLabelWithNumbers": true,
   "eqNumInitial": 1,
   "hotkeys": {
    "equation": "Ctrl-E",
    "itemize": "Ctrl-I"
   },
   "labels_anchors": false,
   "latex_user_defs": false,
   "report_style_numbering": false,
   "user_envs_cfg": false
  }
 },
 "nbformat": 4,
 "nbformat_minor": 4
}
