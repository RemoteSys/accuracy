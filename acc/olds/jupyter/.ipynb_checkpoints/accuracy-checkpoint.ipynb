{
 "cells": [
  {
   "cell_type": "code",
   "execution_count": 1,
   "metadata": {},
   "outputs": [],
   "source": [
    "import pandas as pd\n",
    "import numpy as np\n",
    "from pathlib import Path\n",
    "from tabulate import _table_formats, tabulate"
   ]
  },
  {
   "cell_type": "code",
   "execution_count": 2,
   "metadata": {},
   "outputs": [],
   "source": [
    "pd.options.display.width = 250\n",
    "np.set_printoptions(linewidth=250)"
   ]
  },
  {
   "cell_type": "markdown",
   "metadata": {},
   "source": [
    "# I. Cross matrix\n",
    "\n",
    "### 1. Układ macierzy\n",
    "  >- każda kolumna zawiera wyniki klasyfikacji czyli etykiety 'przewidywane' (`predicted`)\n",
    "  >- wiersze zawierają dane referencyjne czyli etykiety służące sprawdzeniu poprawności klasyfikacji\n",
    "\n",
    "### 2. Testowa cross matrix\n",
    "\n",
    "Do testów wykorzystano macierz z [gis.humboldt.edu](http://gis.humboldt.edu/OLM/Courses/GSP_216_Online/lesson6-2/metrics.html):\n",
    "  >- fikcyjna macierz, nie związana z żadnymi danymi\n",
    "  >- zmieniony układ macierzy - jest zgodny z przyjętymi wyżej założeniami."
   ]
  },
  {
   "cell_type": "code",
   "execution_count": 3,
   "metadata": {},
   "outputs": [
    {
     "data": {
      "text/html": [
       "<div>\n",
       "<style scoped>\n",
       "    .dataframe tbody tr th:only-of-type {\n",
       "        vertical-align: middle;\n",
       "    }\n",
       "\n",
       "    .dataframe tbody tr th {\n",
       "        vertical-align: top;\n",
       "    }\n",
       "\n",
       "    .dataframe thead th {\n",
       "        text-align: right;\n",
       "    }\n",
       "</style>\n",
       "<table border=\"1\" class=\"dataframe\">\n",
       "  <thead>\n",
       "    <tr style=\"text-align: right;\">\n",
       "      <th>predict</th>\n",
       "      <th>water</th>\n",
       "      <th>forest</th>\n",
       "      <th>urban</th>\n",
       "    </tr>\n",
       "    <tr>\n",
       "      <th>referencje</th>\n",
       "      <th></th>\n",
       "      <th></th>\n",
       "      <th></th>\n",
       "    </tr>\n",
       "  </thead>\n",
       "  <tbody>\n",
       "    <tr>\n",
       "      <th>water</th>\n",
       "      <td>21</td>\n",
       "      <td>5</td>\n",
       "      <td>7</td>\n",
       "    </tr>\n",
       "    <tr>\n",
       "      <th>forest</th>\n",
       "      <td>6</td>\n",
       "      <td>31</td>\n",
       "      <td>2</td>\n",
       "    </tr>\n",
       "    <tr>\n",
       "      <th>urban</th>\n",
       "      <td>0</td>\n",
       "      <td>1</td>\n",
       "      <td>22</td>\n",
       "    </tr>\n",
       "  </tbody>\n",
       "</table>\n",
       "</div>"
      ],
      "text/plain": [
       "predict     water  forest  urban\n",
       "referencje                      \n",
       "water          21       5      7\n",
       "forest          6      31      2\n",
       "urban           0       1     22"
      ]
     },
     "execution_count": 3,
     "metadata": {},
     "output_type": "execute_result"
    }
   ],
   "source": [
    "nazwy = ['water','forest','urban'] # nazwy kolumn i wierszy (są takie same)\n",
    "value = [[21,5,7],[6,31,2],[0,1,22]] # liczby w komórkach\n",
    "cros = pd.DataFrame(value,columns=nazwy,index=nazwy)\n",
    "\n",
    "# nazwy indeksów kolumn i wierszy\n",
    "cros.axes[0].name='referencje'\n",
    "cros.axes[1].name='predict'\n",
    "cros"
   ]
  },
  {
   "cell_type": "code",
   "execution_count": 4,
   "metadata": {},
   "outputs": [
    {
     "data": {
      "text/html": [
       "<div>\n",
       "<style scoped>\n",
       "    .dataframe tbody tr th:only-of-type {\n",
       "        vertical-align: middle;\n",
       "    }\n",
       "\n",
       "    .dataframe tbody tr th {\n",
       "        vertical-align: top;\n",
       "    }\n",
       "\n",
       "    .dataframe thead th {\n",
       "        text-align: right;\n",
       "    }\n",
       "</style>\n",
       "<table border=\"1\" class=\"dataframe\">\n",
       "  <thead>\n",
       "    <tr style=\"text-align: right;\">\n",
       "      <th>predict</th>\n",
       "      <th>water</th>\n",
       "      <th>forest</th>\n",
       "      <th>urban</th>\n",
       "      <th>total</th>\n",
       "    </tr>\n",
       "    <tr>\n",
       "      <th>referencje</th>\n",
       "      <th></th>\n",
       "      <th></th>\n",
       "      <th></th>\n",
       "      <th></th>\n",
       "    </tr>\n",
       "  </thead>\n",
       "  <tbody>\n",
       "    <tr>\n",
       "      <th>water</th>\n",
       "      <td>21.0</td>\n",
       "      <td>5.0</td>\n",
       "      <td>7.0</td>\n",
       "      <td>33.0</td>\n",
       "    </tr>\n",
       "    <tr>\n",
       "      <th>forest</th>\n",
       "      <td>6.0</td>\n",
       "      <td>31.0</td>\n",
       "      <td>2.0</td>\n",
       "      <td>39.0</td>\n",
       "    </tr>\n",
       "    <tr>\n",
       "      <th>urban</th>\n",
       "      <td>0.0</td>\n",
       "      <td>1.0</td>\n",
       "      <td>22.0</td>\n",
       "      <td>23.0</td>\n",
       "    </tr>\n",
       "    <tr>\n",
       "      <th>total</th>\n",
       "      <td>27.0</td>\n",
       "      <td>37.0</td>\n",
       "      <td>31.0</td>\n",
       "      <td>95.0</td>\n",
       "    </tr>\n",
       "  </tbody>\n",
       "</table>\n",
       "</div>"
      ],
      "text/plain": [
       "predict     water  forest  urban  total\n",
       "referencje                             \n",
       "water        21.0     5.0    7.0   33.0\n",
       "forest        6.0    31.0    2.0   39.0\n",
       "urban         0.0     1.0   22.0   23.0\n",
       "total        27.0    37.0   31.0   95.0"
      ]
     },
     "execution_count": 4,
     "metadata": {},
     "output_type": "execute_result"
    }
   ],
   "source": [
    "# dodanie sum w wierszach i kolumnach\n",
    "# sumy w kolumnach\n",
    "total = cros.sum(axis=0)\n",
    "cros.loc['total',:] = total\n",
    "\n",
    "# sumy w wierszach\n",
    "total = cros.sum(axis=1)\n",
    "\n",
    "cros.loc[:,'total'] = total\n",
    "cros\n",
    "#print(cros.to_html())"
   ]
  },
  {
   "cell_type": "markdown",
   "metadata": {},
   "source": [
    "\n",
    "\n"
   ]
  },
  {
   "cell_type": "markdown",
   "metadata": {},
   "source": [
    "# II. Terminologia\n",
    "\n",
    "Poniższe wskaźniki opisują klasyfikację binarną tzn. taką, która klasyfikuje dany obiekt:\n",
    " - obiekt należy do klasy\n",
    " - obiekt nie należy do klasy\n",
    " \n",
    "Jesli dane klasyfikowane są do wielu klas to każda klasa obiektów rozpatrywana jest oddzielnie np. są 3 klasy (jak w testowej cross matrix) `water`, `forest`, `urban`. Dla każdej klasy idywidualnie obliczane są wskaźniki klasyfikacji oparte na stwierdzeniu:\n",
    "\n",
    "> klasyfikowany obiekt to `water`  \n",
    "> klasyfikowany obiekt to nie jest `water`  \n",
    "\n",
    "> klasyfikowany obiekt to `forest`  \n",
    "> klasyfikowany obiekt to nie jest `forest`  \n",
    "\n",
    "> klasyfikowany obiekt to `urban`  \n",
    "> klasyfikowany obiekt to nie jest `urban`\n",
    "\n",
    "\n",
    "### 1. Binarny operator opisu wyników klasyfikacji\n",
    "\n",
    "Do opisu wyników klasyfikacji stosuje się dwu miejscowy (binarny operator) złożony z dwóch liter np. `TP (true positive)`:\n",
    " \n",
    " - pierwsza litera (w przykładzie 'T') oznacza wynik klasyfikacji, który może przyjmować wartość:\n",
    "    - `T` (true) - poprawna klasyfikacja\n",
    "    - `F` (false) - niepoprawna klasyfikacja \n",
    " \n",
    " - druga litera (w przykładzie 'P') oznaczająca przypisany po klasyfikacji stan obiektu:\n",
    "    - `P` (positive) - pozytywny, obiekt został sklasyfikowany jako należący do badanej klasy np. obiekt to las - `P`\n",
    "    - `N` (negative) - negatywny, obiekt został sklasyfikowany jako nie należący do badanej klasy np. obiekt nie jest lasem - `N`\n",
    "\n",
    "\n",
    "### 2. Rodzaje operatorów binarnych\n",
    "\n",
    "Są cztery operatory binarne:\n",
    "\n",
    " > 1. `TP` (true positive): liczba wszytskich obiektów poprawnie sklasyfikowanych (`T`) jako należących (`P`) do badanej klasy.  \n",
    "   - `P` wskazuje, że obiekt został sklasyfikowany jako należący do danej klasy, co oznacza, że występuje w kolumnie referencyjnej badanej klasy;  \n",
    "   - `T` klasyfikacja poprawna, czyli obiekt rzeczywiście należy do klasy, do której został sklasyfikowany, co oznacza, że występuje w wierszu referencji danej klasy;\n",
    "   - `TN` oznacza więc przypadek w macierzy błędów, znajdujący jednocześnie w wierszu referencyjnym i w kolumnie klasyfikacji badanej klasy, czyli na ich przecięciu (przekątna macierzy) np. na przecięciu wiersza `forest` z kolumną `forest`.\n",
    " \n",
    " \n",
    " > 2. `TN` (true negative): liczba wszytskich obiektów poprawnie sklasyfikowanych (`T`) jako nie należących (`N`) do badanej klasy:\n",
    "   - `N` wskazuje, że obiekt nie został sklasyfikowany jako należący do badanej klasy, co oznacza, że nie występuje w kolumnie klasyfikacji badanej klasy;   \n",
    "   - `T` klasyfikacja poprawna, czyli obiekt został prawidłowo sklasyfikowany - nie należy do badanej klasy, co oznacza, że nie występuje w wierszu referencji danej klasy;  \n",
    "   - `TN` oznacza więc wszystkie przypadki w macierzy błędów, znajdujące się poza wierszem i kolumną badanej klasy np. nie należą ani do kolumny `forest` ani do wiersza `forest`.\n",
    " \n",
    " \n",
    " > 3. `FP` (false positive): liczba wszystkich obiektów, błędnie sklasyfikowowanych (`F`) jako `P` w rzeczywistości będącymi w stanie `N`.\n",
    "   - `P` wskazuje, że obiekt został sklasyfikowany jako należący do badanej klasy, co oznacza, że występuje w kolumnie klasyfikacji badanej klasy; \n",
    "   - `F` błędna klasyfikacja, czyli obiekt w rzeczywistości nie należy do badanej klasy, co oznacza, że nie występuje w wierszu referencyjnym danej klasy;  \n",
    "   - `FP` oznacza więc wszystkie przypadki w macierzy błędów, znajdujące się w kolumnie klasyfikacji badanej klasy ale nie w wierszu referencji czyli nie orzecięciu się wiersza i kolumny (nie na przekątnej) - np. wszytskie komórki z kolumny `forest`, oprócz komórki na przecięciu wiersza i kolumny `forest`.\n",
    " \n",
    " > 4. `FN` (false negative): liczba wszystkich obiektów, błędnie sklasyfikowowanych (`F`) jako `N` w rzeczywistości będącymi `P`.\n",
    "   - `N` wskazuje, że obiekt nie został sklasyfikowany jako należący do badanej klasy, co oznacza, że nie występuje w kolumnie klasyfikacji badanej klasy;   \n",
    "   - `F` błędna klasyfikacja, czyli obiekt w rzeczywistości należy do badanej klasy, co oznacza, że występuje w wierszu referencji danej klasy;   \n",
    "   - `FN` oznacza więc wszystkie przypadki w macierzy błędów, poza kolumną klasyfikacji znajdujące się w wierszu referencji badanej klasy np. należą do wiersza `forest`, oprócz komórki na przecięciu wiersza `forest` i kolumny `forest`."
   ]
  },
  {
   "cell_type": "code",
   "execution_count": 5,
   "metadata": {
    "scrolled": true
   },
   "outputs": [
    {
     "name": "stdout",
     "output_type": "stream",
     "text": [
      "\n",
      "format: simple\n",
      "\n",
      "----------  -----  -------  -------  -------\n",
      "predict     water  enother  enother  enother\n",
      "referencje\n",
      "water       TP     FN       FN       FN\n",
      "enother     FP     TN       TN       TN\n",
      "enother     FP     TN       TN       TN\n",
      "enother     FP     TN       TN       TN\n",
      "----------  -----  -------  -------  -------\n",
      "\n",
      "format: plain\n",
      "\n",
      "predict     water  enother  enother  enother\n",
      "referencje\n",
      "water       TP     FN       FN       FN\n",
      "enother     FP     TN       TN       TN\n",
      "enother     FP     TN       TN       TN\n",
      "enother     FP     TN       TN       TN\n",
      "\n",
      "format: grid\n",
      "\n",
      "+------------+-------+---------+---------+---------+\n",
      "| predict    | water | enother | enother | enother |\n",
      "+------------+-------+---------+---------+---------+\n",
      "| referencje |       |         |         |         |\n",
      "+------------+-------+---------+---------+---------+\n",
      "| water      | TP    | FN      | FN      | FN      |\n",
      "+------------+-------+---------+---------+---------+\n",
      "| enother    | FP    | TN      | TN      | TN      |\n",
      "+------------+-------+---------+---------+---------+\n",
      "| enother    | FP    | TN      | TN      | TN      |\n",
      "+------------+-------+---------+---------+---------+\n",
      "| enother    | FP    | TN      | TN      | TN      |\n",
      "+------------+-------+---------+---------+---------+\n",
      "\n",
      "format: fancy_grid\n",
      "\n",
      "╒════════════╤═══════╤═════════╤═════════╤═════════╕\n",
      "│ predict    │ water │ enother │ enother │ enother │\n",
      "├────────────┼───────┼─────────┼─────────┼─────────┤\n",
      "│ referencje │       │         │         │         │\n",
      "├────────────┼───────┼─────────┼─────────┼─────────┤\n",
      "│ water      │ TP    │ FN      │ FN      │ FN      │\n",
      "├────────────┼───────┼─────────┼─────────┼─────────┤\n",
      "│ enother    │ FP    │ TN      │ TN      │ TN      │\n",
      "├────────────┼───────┼─────────┼─────────┼─────────┤\n",
      "│ enother    │ FP    │ TN      │ TN      │ TN      │\n",
      "├────────────┼───────┼─────────┼─────────┼─────────┤\n",
      "│ enother    │ FP    │ TN      │ TN      │ TN      │\n",
      "╘════════════╧═══════╧═════════╧═════════╧═════════╛\n",
      "\n",
      "format: github\n",
      "\n",
      "|------------|-------|---------|---------|---------|\n",
      "| predict    | water | enother | enother | enother |\n",
      "| referencje |       |         |         |         |\n",
      "| water      | TP    | FN      | FN      | FN      |\n",
      "| enother    | FP    | TN      | TN      | TN      |\n",
      "| enother    | FP    | TN      | TN      | TN      |\n",
      "| enother    | FP    | TN      | TN      | TN      |\n",
      "\n",
      "format: pipe\n",
      "\n",
      "|:-----------|:------|:--------|:--------|:--------|\n",
      "| predict    | water | enother | enother | enother |\n",
      "| referencje |       |         |         |         |\n",
      "| water      | TP    | FN      | FN      | FN      |\n",
      "| enother    | FP    | TN      | TN      | TN      |\n",
      "| enother    | FP    | TN      | TN      | TN      |\n",
      "| enother    | FP    | TN      | TN      | TN      |\n",
      "\n",
      "format: orgtbl\n",
      "\n",
      "| predict    | water | enother | enother | enother |\n",
      "| referencje |       |         |         |         |\n",
      "| water      | TP    | FN      | FN      | FN      |\n",
      "| enother    | FP    | TN      | TN      | TN      |\n",
      "| enother    | FP    | TN      | TN      | TN      |\n",
      "| enother    | FP    | TN      | TN      | TN      |\n",
      "\n",
      "format: jira\n",
      "\n",
      "| predict    | water | enother | enother | enother |\n",
      "| referencje |       |         |         |         |\n",
      "| water      | TP    | FN      | FN      | FN      |\n",
      "| enother    | FP    | TN      | TN      | TN      |\n",
      "| enother    | FP    | TN      | TN      | TN      |\n",
      "| enother    | FP    | TN      | TN      | TN      |\n",
      "\n",
      "format: presto\n",
      "\n",
      " predict    | water | enother | enother | enother\n",
      " referencje |       |         |         |\n",
      " water      | TP    | FN      | FN      | FN\n",
      " enother    | FP    | TN      | TN      | TN\n",
      " enother    | FP    | TN      | TN      | TN\n",
      " enother    | FP    | TN      | TN      | TN\n",
      "\n",
      "format: pretty\n",
      "\n",
      "+------------+-------+---------+---------+---------+\n",
      "|  predict   | water | enother | enother | enother |\n",
      "| referencje |       |         |         |         |\n",
      "|   water    |  TP   |   FN    |   FN    |   FN    |\n",
      "|  enother   |  FP   |   TN    |   TN    |   TN    |\n",
      "|  enother   |  FP   |   TN    |   TN    |   TN    |\n",
      "|  enother   |  FP   |   TN    |   TN    |   TN    |\n",
      "+------------+-------+---------+---------+---------+\n",
      "\n",
      "format: psql\n",
      "\n",
      "+------------+-------+---------+---------+---------+\n",
      "| predict    | water | enother | enother | enother |\n",
      "| referencje |       |         |         |         |\n",
      "| water      | TP    | FN      | FN      | FN      |\n",
      "| enother    | FP    | TN      | TN      | TN      |\n",
      "| enother    | FP    | TN      | TN      | TN      |\n",
      "| enother    | FP    | TN      | TN      | TN      |\n",
      "+------------+-------+---------+---------+---------+\n",
      "\n",
      "format: rst\n",
      "\n",
      "==========  =====  =======  =======  =======\n",
      "predict     water  enother  enother  enother\n",
      "referencje\n",
      "water       TP     FN       FN       FN\n",
      "enother     FP     TN       TN       TN\n",
      "enother     FP     TN       TN       TN\n",
      "enother     FP     TN       TN       TN\n",
      "==========  =====  =======  =======  =======\n",
      "\n",
      "format: mediawiki\n",
      "\n",
      "{| class=\"wikitable\" style=\"text-align: left;\"\n",
      "|+ <!-- caption -->\n",
      "|-\n",
      "| predict    || water || enother || enother || enother\n",
      "|-\n",
      "| referencje ||       ||         ||         ||\n",
      "|-\n",
      "| water      || TP    || FN      || FN      || FN\n",
      "|-\n",
      "| enother    || FP    || TN      || TN      || TN\n",
      "|-\n",
      "| enother    || FP    || TN      || TN      || TN\n",
      "|-\n",
      "| enother    || FP    || TN      || TN      || TN\n",
      "|}\n",
      "\n",
      "format: moinmoin\n",
      "\n",
      "||  predict     ||  water  ||  enother  ||  enother  ||  enother  ||\n",
      "||  referencje  ||         ||           ||           ||           ||\n",
      "||  water       ||  TP     ||  FN       ||  FN       ||  FN       ||\n",
      "||  enother     ||  FP     ||  TN       ||  TN       ||  TN       ||\n",
      "||  enother     ||  FP     ||  TN       ||  TN       ||  TN       ||\n",
      "||  enother     ||  FP     ||  TN       ||  TN       ||  TN       ||\n",
      "\n",
      "format: youtrack\n",
      "\n",
      "|  predict     |  water  |  enother  |  enother  |  enother  |\n",
      "|  referencje  |         |           |           |           |\n",
      "|  water       |  TP     |  FN       |  FN       |  FN       |\n",
      "|  enother     |  FP     |  TN       |  TN       |  TN       |\n",
      "|  enother     |  FP     |  TN       |  TN       |  TN       |\n",
      "|  enother     |  FP     |  TN       |  TN       |  TN       |\n",
      "\n",
      "format: html\n",
      "\n",
      "<table>\n",
      "<tbody>\n",
      "<tr><td>predict   </td><td>water</td><td>enother</td><td>enother</td><td>enother</td></tr>\n",
      "<tr><td>referencje</td><td>     </td><td>       </td><td>       </td><td>       </td></tr>\n",
      "<tr><td>water     </td><td>TP   </td><td>FN     </td><td>FN     </td><td>FN     </td></tr>\n",
      "<tr><td>enother   </td><td>FP   </td><td>TN     </td><td>TN     </td><td>TN     </td></tr>\n",
      "<tr><td>enother   </td><td>FP   </td><td>TN     </td><td>TN     </td><td>TN     </td></tr>\n",
      "<tr><td>enother   </td><td>FP   </td><td>TN     </td><td>TN     </td><td>TN     </td></tr>\n",
      "</tbody>\n",
      "</table>\n",
      "\n",
      "format: latex\n",
      "\n",
      "\\begin{tabular}{lllll}\n",
      "\\hline\n",
      " predict    & water & enother & enother & enother \\\\\n",
      " referencje &       &         &         &         \\\\\n",
      " water      & TP    & FN      & FN      & FN      \\\\\n",
      " enother    & FP    & TN      & TN      & TN      \\\\\n",
      " enother    & FP    & TN      & TN      & TN      \\\\\n",
      " enother    & FP    & TN      & TN      & TN      \\\\\n",
      "\\hline\n",
      "\\end{tabular}\n",
      "\n",
      "format: latex_raw\n",
      "\n",
      "\\begin{tabular}{lllll}\n",
      "\\hline\n",
      " predict    & water & enother & enother & enother \\\\\n",
      " referencje &       &         &         &         \\\\\n",
      " water      & TP    & FN      & FN      & FN      \\\\\n",
      " enother    & FP    & TN      & TN      & TN      \\\\\n",
      " enother    & FP    & TN      & TN      & TN      \\\\\n",
      " enother    & FP    & TN      & TN      & TN      \\\\\n",
      "\\hline\n",
      "\\end{tabular}\n",
      "\n",
      "format: latex_booktabs\n",
      "\n",
      "\\begin{tabular}{lllll}\n",
      "\\toprule\n",
      " predict    & water & enother & enother & enother \\\\\n",
      " referencje &       &         &         &         \\\\\n",
      " water      & TP    & FN      & FN      & FN      \\\\\n",
      " enother    & FP    & TN      & TN      & TN      \\\\\n",
      " enother    & FP    & TN      & TN      & TN      \\\\\n",
      " enother    & FP    & TN      & TN      & TN      \\\\\n",
      "\\bottomrule\n",
      "\\end{tabular}\n",
      "\n",
      "format: tsv\n",
      "\n",
      "predict   \twater\tenother\tenother\tenother\n",
      "referencje\n",
      "water     \tTP   \tFN     \tFN     \tFN\n",
      "enother   \tFP   \tTN     \tTN     \tTN\n",
      "enother   \tFP   \tTN     \tTN     \tTN\n",
      "enother   \tFP   \tTN     \tTN     \tTN\n",
      "\n",
      "format: textile\n",
      "\n",
      "|<. predict     |<. water |<. enother |<. enother |<. enother |\n",
      "|<. referencje  |<.       |<.         |<.         |<.         |\n",
      "|<. water       |<. TP    |<. FN      |<. FN      |<. FN      |\n",
      "|<. enother     |<. FP    |<. TN      |<. TN      |<. TN      |\n",
      "|<. enother     |<. FP    |<. TN      |<. TN      |<. TN      |\n",
      "|<. enother     |<. FP    |<. TN      |<. TN      |<. TN      |\n"
     ]
    }
   ],
   "source": [
    "tabl = [['predict','water','enother','enother','enother'],['referencje'],\\\n",
    "       ['water','TP','FN','FN','FN'],['enother','FP','TN','TN','TN'],\\\n",
    "       ['enother','FP','TN','TN','TN'],['enother','FP','TN','TN','TN']]\n",
    "headers = ['1','2','3','4','5']\n",
    "\n",
    "for f in list(_table_formats):\n",
    "    print(\"\\nformat: {}\\n\".format(f))\n",
    "    print(tabulate(tabl,tablefmt=f))"
   ]
  },
  {
   "cell_type": "markdown",
   "metadata": {},
   "source": [
    "### 3. Obliczanie operatorów na macierzy testowej\n",
    "\n",
    "> Układ:\n",
    ">  - w kolumnach wyniki klasyfikacji\n",
    ">  - w wierszach dane referencyjne (prawdziwe)\n",
    "\n",
    "Przykłady obliczeń dla klasy `water`!\n",
    "\n",
    "#### Dane - macierz bez wierszy podsumowujących"
   ]
  },
  {
   "cell_type": "code",
   "execution_count": 6,
   "metadata": {},
   "outputs": [
    {
     "data": {
      "text/html": [
       "<div>\n",
       "<style scoped>\n",
       "    .dataframe tbody tr th:only-of-type {\n",
       "        vertical-align: middle;\n",
       "    }\n",
       "\n",
       "    .dataframe tbody tr th {\n",
       "        vertical-align: top;\n",
       "    }\n",
       "\n",
       "    .dataframe thead th {\n",
       "        text-align: right;\n",
       "    }\n",
       "</style>\n",
       "<table border=\"1\" class=\"dataframe\">\n",
       "  <thead>\n",
       "    <tr style=\"text-align: right;\">\n",
       "      <th>predict</th>\n",
       "      <th>water</th>\n",
       "      <th>forest</th>\n",
       "      <th>urban</th>\n",
       "    </tr>\n",
       "    <tr>\n",
       "      <th>referencje</th>\n",
       "      <th></th>\n",
       "      <th></th>\n",
       "      <th></th>\n",
       "    </tr>\n",
       "  </thead>\n",
       "  <tbody>\n",
       "    <tr>\n",
       "      <th>water</th>\n",
       "      <td>21.0</td>\n",
       "      <td>5.0</td>\n",
       "      <td>7.0</td>\n",
       "    </tr>\n",
       "    <tr>\n",
       "      <th>forest</th>\n",
       "      <td>6.0</td>\n",
       "      <td>31.0</td>\n",
       "      <td>2.0</td>\n",
       "    </tr>\n",
       "    <tr>\n",
       "      <th>urban</th>\n",
       "      <td>0.0</td>\n",
       "      <td>1.0</td>\n",
       "      <td>22.0</td>\n",
       "    </tr>\n",
       "  </tbody>\n",
       "</table>\n",
       "</div>"
      ],
      "text/plain": [
       "predict     water  forest  urban\n",
       "referencje                      \n",
       "water        21.0     5.0    7.0\n",
       "forest        6.0    31.0    2.0\n",
       "urban         0.0     1.0   22.0"
      ]
     },
     "execution_count": 6,
     "metadata": {},
     "output_type": "execute_result"
    }
   ],
   "source": [
    "cros.iloc[:-1,:-1]"
   ]
  },
  {
   "cell_type": "markdown",
   "metadata": {},
   "source": [
    "#### 3.1. `TP` true positive"
   ]
  },
  {
   "cell_type": "code",
   "execution_count": 7,
   "metadata": {},
   "outputs": [
    {
     "name": "stdout",
     "output_type": "stream",
     "text": [
      "Dane tmp:\n",
      "[[21.  5.  7.]\n",
      " [ 6. 31.  2.]\n",
      " [ 0.  1. 22.]]\n",
      "\n",
      "True positive TP dla klasy water: 21.0\n"
     ]
    }
   ],
   "source": [
    "# klasa 'water' - indeks 0\n",
    "i = 0\n",
    "# z macierzy wybierz dane - bez wierszy i kolumn z sumami!!!\n",
    "tmp = cros.iloc[:-1,:-1].to_numpy()\n",
    "tp = tmp[i,i]\n",
    "print(f'Dane tmp:\\n{tmp}\\n\\nTrue positive TP dla klasy water: {tp}')"
   ]
  },
  {
   "cell_type": "markdown",
   "metadata": {},
   "source": [
    "#### 3.2. `TN` true negative"
   ]
  },
  {
   "cell_type": "code",
   "execution_count": 8,
   "metadata": {},
   "outputs": [
    {
     "name": "stdout",
     "output_type": "stream",
     "text": [
      "Dane tmp1 po usunięciu wiersza i kolumny klasy water:\n",
      "[[31.  2.]\n",
      " [ 1. 22.]]\n",
      "\n",
      "True negative TN - suma tmp1: 56.0\n"
     ]
    }
   ],
   "source": [
    "# true negative\n",
    "tmp = cros.iloc[:-1,:-1].to_numpy()\n",
    "tmp1 = np.delete(tmp,i,1)  # usuń kolumnę rozpatrywanej klasy\n",
    "tmp1 = np.delete(tmp1,i,0) # usuń wiersz rozpatrywanej klasy\n",
    "tn = tmp1.sum()\n",
    "print(f'Dane tmp1 po usunięciu wiersza i kolumny klasy water:\\n{tmp1}\\n\\nTrue negative TN - suma tmp1: {tn}')"
   ]
  },
  {
   "cell_type": "markdown",
   "metadata": {},
   "source": [
    "#### 3.3. `FP` false positive"
   ]
  },
  {
   "cell_type": "code",
   "execution_count": 9,
   "metadata": {},
   "outputs": [
    {
     "name": "stdout",
     "output_type": "stream",
     "text": [
      "Dane col:\n",
      "[6. 0.]\n",
      "\n",
      "False positive FP: 6.0\n"
     ]
    }
   ],
   "source": [
    "# false positive\n",
    "tmp = cros.iloc[:-1,:-1].to_numpy()\n",
    "col = np.delete(tmp[:,i],i) # pobierz kolumnę i usuń z niej rozpatrywany wiersz\n",
    "fp = col.sum()\n",
    "\n",
    "print(f'Dane col:\\n{col}\\n\\nFalse positive FP: {fp}')"
   ]
  },
  {
   "cell_type": "code",
   "execution_count": null,
   "metadata": {},
   "outputs": [],
   "source": []
  },
  {
   "cell_type": "markdown",
   "metadata": {},
   "source": [
    "#### 3.4. `FN` false negative"
   ]
  },
  {
   "cell_type": "code",
   "execution_count": 10,
   "metadata": {},
   "outputs": [
    {
     "name": "stdout",
     "output_type": "stream",
     "text": [
      "Dane row:\n",
      "[5. 7.]\n",
      "\n",
      "False negative FN: 12.0\n"
     ]
    }
   ],
   "source": [
    "# false false negative\n",
    "tmp = cros.iloc[:-1,:-1].to_numpy()\n",
    "\n",
    "# pobierz wiersz prawdy i usuń z niego rozpatrywaną kolumnę\n",
    "row = np.delete(tmp[i,:],i) \n",
    "fn = row.sum()\n",
    "\n",
    "print(f'Dane row:\\n{row}\\n\\nFalse negative FN: {fn}')"
   ]
  },
  {
   "cell_type": "markdown",
   "metadata": {},
   "source": [
    "### 3.5. Funkcja `trueFalse`\n",
    "Funkcja generuje tabele z wartościami operatorów dla każdej klasy"
   ]
  },
  {
   "cell_type": "code",
   "execution_count": 11,
   "metadata": {},
   "outputs": [],
   "source": [
    "def trueFalse(ar,v=False):\n",
    "    ar = ar.copy()\n",
    "    cols = ar.columns\n",
    "    ar = ar.iloc[:-1,:-1].to_numpy()\n",
    "    k = ar.shape[0]\n",
    "    sl = {}\n",
    "    rowsIdx = ['TP','TN','FP','FN']\n",
    "    \n",
    "    for i in range(k):\n",
    "        tp = ar[i,i]\n",
    "        \n",
    "        tmp = np.delete(ar,i,1)  # usuń kolumnę rozpatrywanej klasy\n",
    "        tmp = np.delete(tmp,i,0) # usuń wiersz rozpatrywanej klasy\n",
    "\n",
    "        tn = tmp.sum()\n",
    "        \n",
    "        row = np.delete(ar[i,:],i) # pobierz wiersz i usuń z niego rozpatrywaną kolumnę\n",
    "        fn = row.sum()\n",
    "        \n",
    "        col = np.delete(ar[:,i],i) # pobierz kolumnę i usuń z niej rozpatrywany wiersz\n",
    "        fp = col.sum()\n",
    "        \n",
    "        sl[cols[i]] = [tp,tn,fp,fn]\n",
    "    \n",
    "    return pd.DataFrame(sl,index=rowsIdx)"
   ]
  },
  {
   "cell_type": "code",
   "execution_count": 31,
   "metadata": {},
   "outputs": [
    {
     "data": {
      "text/html": [
       "<div>\n",
       "<style scoped>\n",
       "    .dataframe tbody tr th:only-of-type {\n",
       "        vertical-align: middle;\n",
       "    }\n",
       "\n",
       "    .dataframe tbody tr th {\n",
       "        vertical-align: top;\n",
       "    }\n",
       "\n",
       "    .dataframe thead th {\n",
       "        text-align: right;\n",
       "    }\n",
       "</style>\n",
       "<table border=\"1\" class=\"dataframe\">\n",
       "  <thead>\n",
       "    <tr style=\"text-align: right;\">\n",
       "      <th></th>\n",
       "      <th>water</th>\n",
       "      <th>forest</th>\n",
       "      <th>urban</th>\n",
       "    </tr>\n",
       "  </thead>\n",
       "  <tbody>\n",
       "    <tr>\n",
       "      <th>TP</th>\n",
       "      <td>21.0</td>\n",
       "      <td>31.0</td>\n",
       "      <td>22.0</td>\n",
       "    </tr>\n",
       "    <tr>\n",
       "      <th>TN</th>\n",
       "      <td>56.0</td>\n",
       "      <td>50.0</td>\n",
       "      <td>63.0</td>\n",
       "    </tr>\n",
       "    <tr>\n",
       "      <th>FP</th>\n",
       "      <td>6.0</td>\n",
       "      <td>6.0</td>\n",
       "      <td>9.0</td>\n",
       "    </tr>\n",
       "    <tr>\n",
       "      <th>FN</th>\n",
       "      <td>12.0</td>\n",
       "      <td>8.0</td>\n",
       "      <td>1.0</td>\n",
       "    </tr>\n",
       "  </tbody>\n",
       "</table>\n",
       "</div>"
      ],
      "text/plain": [
       "    water  forest  urban\n",
       "TP   21.0    31.0   22.0\n",
       "TN   56.0    50.0   63.0\n",
       "FP    6.0     6.0    9.0\n",
       "FN   12.0     8.0    1.0"
      ]
     },
     "execution_count": 31,
     "metadata": {},
     "output_type": "execute_result"
    }
   ],
   "source": [
    "binTF = trueFalse(cros)\n",
    "binTF"
   ]
  },
  {
   "cell_type": "code",
   "execution_count": 34,
   "metadata": {},
   "outputs": [
    {
     "data": {
      "text/plain": [
       "95.0"
      ]
     },
     "execution_count": 34,
     "metadata": {},
     "output_type": "execute_result"
    }
   ],
   "source": [
    "binTF.sum(axis=0).iat[0]"
   ]
  },
  {
   "cell_type": "markdown",
   "metadata": {},
   "source": [
    "---\n",
    "\n",
    "# II. Dokładności\n",
    " - overall accuracy\n",
    " - errors of omission\n",
    " - errors of commission\n",
    " - producer accuracy\n",
    " - user accuracy\n",
    "\n",
    "\n",
    "\n",
    "### 1. overall accuracy \n",
    "\n",
    "\n",
    "> $$oaAcc = \\frac{\\text{liczba poprawnych clasyfikacji}}{\\text{suma wszystkich}} = \\frac{suma(TP)}{TP + TN + FP + FN}$$"
   ]
  },
  {
   "cell_type": "code",
   "execution_count": 42,
   "metadata": {},
   "outputs": [
    {
     "name": "stdout",
     "output_type": "stream",
     "text": [
      "allGood:      74.0\n",
      "total:        95.0\n",
      "oacc:    0.7789474\t# overall accuracy\n",
      "oacc: 0.7789474\n"
     ]
    }
   ],
   "source": [
    "total = cros.iloc[-1,-1]\n",
    "allGood = np.trace(cros.iloc[:-1,:-1]) # suma liczb na przekątnej\n",
    "oacc = np.round((allGood / total)*1,7)\n",
    "print(f'''allGood:{allGood:>10}\\ntotal:{total:>12}\\noacc:{oacc:>13}\\t# overall accuracy''')\n",
    "print(f'oacc: {oacc}')"
   ]
  },
  {
   "cell_type": "code",
   "execution_count": 36,
   "metadata": {},
   "outputs": [
    {
     "name": "stdout",
     "output_type": "stream",
     "text": [
      "78.0\n"
     ]
    }
   ],
   "source": [
    "# obliczenia z true / false\n",
    "sumaTp = binTF.loc['TP'].sum()\n",
    "sumaAll = binTF.sum(axis=0).iat[0]\n",
    "\n",
    "oacc1 = sumaTp / sumaAll\n",
    "print(np.round(oacc1*100,0))"
   ]
  },
  {
   "cell_type": "markdown",
   "metadata": {},
   "source": [
    "### 2. Errors of Omission\n",
    "\n",
    "> Błędy pominięcia odnoszą się do wartości referencyjnych. Określają procent pominiętych wartości referencyjnych w każdej klasie\n",
    "\n",
    "> Błąd pominięcia w jenej klasie jest błędem nadmiaru w innej klasie!\n",
    "\n",
    "> w przyjętym układzie cross matrix (kolumny - predict, wiersze - ref/true):\n",
    "\n",
    "> $$erOm = \\frac{\\text{suma błędów w wierszu}}{\\text{suma wszystkich w wierszu}} = \\frac{FN}{TP + FN}$$"
   ]
  },
  {
   "cell_type": "code",
   "execution_count": 14,
   "metadata": {
    "scrolled": true
   },
   "outputs": [
    {
     "name": "stdout",
     "output_type": "stream",
     "text": [
      "rowsum: [33. 39. 23.]\n",
      "diag:   [21. 31. 22.]\n",
      "dif:    [12.  8.  1.]\n",
      "\n",
      "erOm:referencje\n",
      "water     36.0\n",
      "forest    21.0\n",
      "urban      4.0\n",
      "dtype: float64\n"
     ]
    }
   ],
   "source": [
    "diag = np.diagonal(cros.iloc[:-1,:-1]) # wartości diagonalne\n",
    "rowsum = np.sum(cros.iloc[:-1,:-1],axis=1) # sumy w wierszach\n",
    "dif = rowsum - diag\n",
    "erOm = np.round((dif/rowsum)*100,0)\n",
    "print(f'''rowsum: {rowsum.values}\\ndiag:   {diag}\\ndif:    {dif.values}\\n\\nerOm:{erOm}''')"
   ]
  },
  {
   "cell_type": "code",
   "execution_count": 15,
   "metadata": {},
   "outputs": [
    {
     "name": "stdout",
     "output_type": "stream",
     "text": [
      "    water  forest  urban\n",
      "TP   21.0    31.0   22.0\n",
      "TN   56.0    50.0   63.0\n",
      "FP    6.0     6.0    9.0\n",
      "FN   12.0     8.0    1.0\n"
     ]
    }
   ],
   "source": [
    "print(binTF)"
   ]
  },
  {
   "cell_type": "code",
   "execution_count": 16,
   "metadata": {},
   "outputs": [
    {
     "name": "stdout",
     "output_type": "stream",
     "text": [
      "water     36.0\n",
      "forest    21.0\n",
      "urban      4.0\n",
      "dtype: float64\n"
     ]
    }
   ],
   "source": [
    "# obliczenia z true / false\n",
    "sumR = binTF.loc[['TP','FN'],:].sum(axis=0)\n",
    "sumR\n",
    "erOm1 = binTF.loc['FN',:] / sumR\n",
    "print(np.round(erOm1*100,0))"
   ]
  },
  {
   "cell_type": "markdown",
   "metadata": {},
   "source": [
    "### 3. Errors of Commission\n",
    "\n",
    "> $$eCom = \\frac{\\text{suma błędów w kolumnie}}{\\text{suma wszystkich w kolumnie}} = \\frac{FP}{TP + FP}$$"
   ]
  },
  {
   "cell_type": "code",
   "execution_count": 17,
   "metadata": {
    "scrolled": true
   },
   "outputs": [
    {
     "name": "stdout",
     "output_type": "stream",
     "text": [
      "kolsum: [27. 37. 31.]\n",
      "diag:   [21. 31. 22.]\n",
      "dif:    [6. 6. 9.]\n",
      "\n",
      "erCom:predict\n",
      "water     22.0\n",
      "forest    16.0\n",
      "urban     29.0\n",
      "dtype: float64\n"
     ]
    }
   ],
   "source": [
    "diag = np.diagonal(cros.iloc[:-1,:-1]) # wartości diagonalne\n",
    "kolsum = np.sum(cros.iloc[:-1,:-1],axis=0) # sumy w kolumnach\n",
    "dif = kolsum - diag  # suma błędów - od eszystkich odejmuje poprawne\n",
    "erCom = np.round((dif/kolsum)*100,0)\n",
    "print(f'''kolsum: {kolsum.values}\\ndiag:   {diag}\\ndif:    {dif.values}\\n\\nerCom:{erCom}''')"
   ]
  },
  {
   "cell_type": "code",
   "execution_count": 18,
   "metadata": {},
   "outputs": [
    {
     "name": "stdout",
     "output_type": "stream",
     "text": [
      "water     22.0\n",
      "forest    16.0\n",
      "urban     29.0\n",
      "dtype: float64\n"
     ]
    }
   ],
   "source": [
    "# obliczenia z true / false\n",
    "sumK = binTF.loc[['TP','FP'],:].sum(axis=0)\n",
    "sumK\n",
    "erCom1 = binTF.loc['FP',:] / sumK\n",
    "print(np.round(erCom1*100,0))"
   ]
  },
  {
   "cell_type": "markdown",
   "metadata": {},
   "source": [
    "### 4. producer accuracy\n",
    "> $$producer = \\frac{\\text{wartości poprawne (przekątna)}}{\\text{suma wiersza}} = \\frac{TP}{TP + FN}$$"
   ]
  },
  {
   "cell_type": "code",
   "execution_count": 43,
   "metadata": {},
   "outputs": [
    {
     "name": "stdout",
     "output_type": "stream",
     "text": [
      "kolsum: [33. 39. 23.]\n",
      "diag:   [21. 31. 22.]\n",
      "\n",
      "producer:referencje\n",
      "water     0.636364\n",
      "forest    0.794872\n",
      "urban     0.956522\n",
      "dtype: float64\n"
     ]
    }
   ],
   "source": [
    "diag = np.diagonal(cros.iloc[:-1,:-1]) # wartości diagonalne\n",
    "rowsum = np.sum(cros.iloc[:-1,:-1],axis=1) # sumy w wierszach\n",
    "producer = np.round((diag/rowsum)*1,7)\n",
    "print(f'''kolsum: {rowsum.values}\\ndiag:   {diag}\\n\\nproducer:{producer}''')"
   ]
  },
  {
   "cell_type": "code",
   "execution_count": 50,
   "metadata": {},
   "outputs": [
    {
     "data": {
      "text/plain": [
       "referencje\n",
       "water     0.636364\n",
       "forest    0.794872\n",
       "urban     0.956522\n",
       "dtype: float64"
      ]
     },
     "execution_count": 50,
     "metadata": {},
     "output_type": "execute_result"
    }
   ],
   "source": [
    "s = pd.Series([0.636364,0.794872,0.956522],index=['water','forest','urban'])\n",
    "s.axes[0].name = 'referencje'\n",
    "s"
   ]
  },
  {
   "cell_type": "code",
   "execution_count": 54,
   "metadata": {},
   "outputs": [],
   "source": [
    "sn = producer.to_numpy()"
   ]
  },
  {
   "cell_type": "code",
   "execution_count": null,
   "metadata": {},
   "outputs": [],
   "source": []
  },
  {
   "cell_type": "code",
   "execution_count": 20,
   "metadata": {},
   "outputs": [
    {
     "name": "stdout",
     "output_type": "stream",
     "text": [
      "water     64.0\n",
      "forest    79.0\n",
      "urban     96.0\n",
      "dtype: float64\n"
     ]
    }
   ],
   "source": [
    "# obliczenia z true / false\n",
    "sumR = binTF.loc[['TP','FN'],:].sum(axis=0)\n",
    "sumR\n",
    "producer1 = binTF.loc['TP',:] / sumR\n",
    "print(np.round(producer1*100,0))"
   ]
  },
  {
   "cell_type": "markdown",
   "metadata": {},
   "source": [
    "### 5. user accuracy\n",
    "> $$producer = \\frac{\\text{wartości poprawne (przekątna)}}{\\text{suma kolumny}} = \\frac{TP}{TP + FP}$$"
   ]
  },
  {
   "cell_type": "code",
   "execution_count": 21,
   "metadata": {
    "scrolled": true
   },
   "outputs": [
    {
     "name": "stdout",
     "output_type": "stream",
     "text": [
      "kolsum: [27. 37. 31.]\n",
      "diag:   [21. 31. 22.]\n",
      "\n",
      "user:predict\n",
      "water     78.0\n",
      "forest    84.0\n",
      "urban     71.0\n",
      "dtype: float64\n"
     ]
    }
   ],
   "source": [
    "diag = np.diagonal(cros.iloc[:-1,:-1]) # wartości diagonalne\n",
    "kolsum = np.sum(cros.iloc[:-1,:-1],axis=0) # sumy w kolumnach\n",
    "user = np.round((diag/kolsum)*100,0)\n",
    "print(f'''kolsum: {kolsum.values}\\ndiag:   {diag}\\n\\nuser:{user}''')"
   ]
  },
  {
   "cell_type": "code",
   "execution_count": 22,
   "metadata": {},
   "outputs": [
    {
     "name": "stdout",
     "output_type": "stream",
     "text": [
      "water     78.0\n",
      "forest    84.0\n",
      "urban     71.0\n",
      "dtype: float64\n"
     ]
    }
   ],
   "source": [
    "# obliczenia z true / false\n",
    "sumK = binTF.loc[['TP','FP'],:].sum(axis=0)\n",
    "sumK\n",
    "user1 = binTF.loc['TP',:] / sumK\n",
    "print(np.round(user1*100,0))"
   ]
  },
  {
   "cell_type": "markdown",
   "metadata": {},
   "source": [
    "---\n",
    "\n",
    "# III. Precision and Recall\n"
   ]
  },
  {
   "cell_type": "code",
   "execution_count": 23,
   "metadata": {},
   "outputs": [
    {
     "name": "stdout",
     "output_type": "stream",
     "text": [
      "binTF - table with True False / positive negative operators:\n"
     ]
    },
    {
     "data": {
      "text/html": [
       "<div>\n",
       "<style scoped>\n",
       "    .dataframe tbody tr th:only-of-type {\n",
       "        vertical-align: middle;\n",
       "    }\n",
       "\n",
       "    .dataframe tbody tr th {\n",
       "        vertical-align: top;\n",
       "    }\n",
       "\n",
       "    .dataframe thead th {\n",
       "        text-align: right;\n",
       "    }\n",
       "</style>\n",
       "<table border=\"1\" class=\"dataframe\">\n",
       "  <thead>\n",
       "    <tr style=\"text-align: right;\">\n",
       "      <th></th>\n",
       "      <th>water</th>\n",
       "      <th>forest</th>\n",
       "      <th>urban</th>\n",
       "    </tr>\n",
       "  </thead>\n",
       "  <tbody>\n",
       "    <tr>\n",
       "      <th>TP</th>\n",
       "      <td>21.0</td>\n",
       "      <td>31.0</td>\n",
       "      <td>22.0</td>\n",
       "    </tr>\n",
       "    <tr>\n",
       "      <th>TN</th>\n",
       "      <td>56.0</td>\n",
       "      <td>50.0</td>\n",
       "      <td>63.0</td>\n",
       "    </tr>\n",
       "    <tr>\n",
       "      <th>FP</th>\n",
       "      <td>6.0</td>\n",
       "      <td>6.0</td>\n",
       "      <td>9.0</td>\n",
       "    </tr>\n",
       "    <tr>\n",
       "      <th>FN</th>\n",
       "      <td>12.0</td>\n",
       "      <td>8.0</td>\n",
       "      <td>1.0</td>\n",
       "    </tr>\n",
       "  </tbody>\n",
       "</table>\n",
       "</div>"
      ],
      "text/plain": [
       "    water  forest  urban\n",
       "TP   21.0    31.0   22.0\n",
       "TN   56.0    50.0   63.0\n",
       "FP    6.0     6.0    9.0\n",
       "FN   12.0     8.0    1.0"
      ]
     },
     "execution_count": 23,
     "metadata": {},
     "output_type": "execute_result"
    }
   ],
   "source": [
    "# input data: table with True False / positive negative operators\n",
    "print('binTF - table with True False / positive negative operators:')\n",
    "binTF"
   ]
  },
  {
   "cell_type": "markdown",
   "metadata": {},
   "source": [
    "### 1. Dokładność\n",
    "Dokładność liczona dla każdej klasy osobno i definiowana jako:\n",
    "\n",
    "> $$acc = \\frac{TP + TN}{TP+TN+FP+FN}$$\n",
    "\n",
    "Przykład dla `wody`:\n",
    "\n",
    "> $TP + TN = 21 + 56 = 77$  \n",
    "> $TP+TN+FP+FN = 21 + 56 + 6 + 12 = 95$  \n",
    ">$acc = \\frac{77}{95} = 81\\%$"
   ]
  },
  {
   "cell_type": "code",
   "execution_count": 24,
   "metadata": {},
   "outputs": [
    {
     "data": {
      "text/plain": [
       "81.05263157894737"
      ]
     },
     "execution_count": 24,
     "metadata": {},
     "output_type": "execute_result"
    }
   ],
   "source": [
    "(77/95)*100"
   ]
  },
  {
   "cell_type": "code",
   "execution_count": 25,
   "metadata": {},
   "outputs": [],
   "source": [
    "def acc(binTF):\n",
    "    sum1 = binTF.loc[['TP','TN'],:].sum(axis=0)\n",
    "    sum2 = binTF.sum(axis=0)\n",
    "    acc = (sum1/sum2)*100\n",
    "    return acc.apply(np.round,decimals=0)"
   ]
  },
  {
   "cell_type": "code",
   "execution_count": 26,
   "metadata": {},
   "outputs": [
    {
     "data": {
      "text/plain": [
       "water     81.0\n",
       "forest    85.0\n",
       "urban     89.0\n",
       "dtype: float64"
      ]
     },
     "execution_count": 26,
     "metadata": {},
     "output_type": "execute_result"
    }
   ],
   "source": [
    "acc(binTF)"
   ]
  },
  {
   "cell_type": "markdown",
   "metadata": {},
   "source": [
    "### 2. Precision\n",
    "\n",
    "> $$pr = \\frac{TP}{TP + FP}$$\n",
    "\n",
    "> $TP$ - prawidłowo stwierdzona clasa np. las to las (przekątna macierzy)  \n",
    "> $FP$ - fałszywie przydzielone do danej klasy np. woda jako las, urban jako las - suma fałszywych, czyli suma w wierszach oprócz przekątnych ($TP$)\n",
    "\n",
    "> Jaka część identyfikacji pozytywnej była rzeczywiście prawidłowa?\n",
    "> What proportion of positive identifications was actually correct?"
   ]
  },
  {
   "cell_type": "code",
   "execution_count": 27,
   "metadata": {},
   "outputs": [],
   "source": [
    "def precision(binTF):\n",
    "    licznik = binTF.loc['TP',:]\n",
    "    mian = binTF.loc[['TP','FP'],:].sum(axis=0)\n",
    "    wyn = (licznik/mian)*100\n",
    "    return wyn.apply(np.round,decimals=0)"
   ]
  },
  {
   "cell_type": "code",
   "execution_count": 28,
   "metadata": {},
   "outputs": [
    {
     "data": {
      "text/plain": [
       "water     78.0\n",
       "forest    84.0\n",
       "urban     71.0\n",
       "dtype: float64"
      ]
     },
     "execution_count": 28,
     "metadata": {},
     "output_type": "execute_result"
    }
   ],
   "source": [
    "precision(binTF)"
   ]
  },
  {
   "cell_type": "markdown",
   "metadata": {},
   "source": [
    "### 2.  Recall (sensitivity, hit rate, true positive rate)\n",
    "\n",
    ">$$ rec = \\frac{TP}{TP+FN}$$\n",
    "\n",
    "Recall attempts to answer the following question:\n",
    "\n",
    "> What proportion of actual positives was identified correctly?\n"
   ]
  },
  {
   "cell_type": "code",
   "execution_count": 29,
   "metadata": {
    "scrolled": true
   },
   "outputs": [],
   "source": [
    "def sensitivity(binTF):\n",
    "    licznik = binTF.loc['TP',:]\n",
    "    mian = binTF.loc[['TP','FN'],:].sum(axis=0)\n",
    "    wyn = (licznik/mian)*100\n",
    "    return wyn.apply(np.round,decimals=0)"
   ]
  },
  {
   "cell_type": "code",
   "execution_count": 30,
   "metadata": {},
   "outputs": [
    {
     "data": {
      "text/plain": [
       "water     64.0\n",
       "forest    79.0\n",
       "urban     96.0\n",
       "dtype: float64"
      ]
     },
     "execution_count": 30,
     "metadata": {},
     "output_type": "execute_result"
    }
   ],
   "source": [
    "sensitivity(binTF)"
   ]
  }
 ],
 "metadata": {
  "kernelspec": {
   "display_name": "Python [conda env:gis]",
   "language": "python",
   "name": "conda-env-gis-py"
  },
  "language_info": {
   "codemirror_mode": {
    "name": "ipython",
    "version": 3
   },
   "file_extension": ".py",
   "mimetype": "text/x-python",
   "name": "python",
   "nbconvert_exporter": "python",
   "pygments_lexer": "ipython3",
   "version": "3.7.7"
  },
  "latex_envs": {
   "LaTeX_envs_menu_present": true,
   "autoclose": false,
   "autocomplete": true,
   "bibliofile": "biblio.bib",
   "cite_by": "apalike",
   "current_citInitial": 1,
   "eqLabelWithNumbers": true,
   "eqNumInitial": 1,
   "hotkeys": {
    "equation": "Ctrl-E",
    "itemize": "Ctrl-I"
   },
   "labels_anchors": false,
   "latex_user_defs": false,
   "report_style_numbering": false,
   "user_envs_cfg": false
  }
 },
 "nbformat": 4,
 "nbformat_minor": 4
}
